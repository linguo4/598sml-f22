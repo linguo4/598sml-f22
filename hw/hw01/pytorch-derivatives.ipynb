{
  "cells": [
    {
      "cell_type": "markdown",
      "id": "965e060d-c184-42a5-9891-82df8683d699",
      "metadata": {
        "id": "965e060d-c184-42a5-9891-82df8683d699"
      },
      "source": [
        "# `torch.autograd`: Computing derivatives\n",
        "\n",
        "PyTorch constructs the computation graph as you do operations (dynamic graphs) unlike TensorFlow (static graphs)\n",
        "\n",
        "Using the computation graph, the chain rule (back propagation) can compute derivatives\n",
        "\n",
        "Derivatives are available in the leaf nodes\n",
        "\n",
        "<img src=\"http://media5.datahacker.rs/2021/01/54-1-1536x735.jpg\" width=60%>\n",
        "(Figure from http://datahacker.rs/004-computational-graph-and-autograd-with-pytorch/)\n",
        "\n",
        "Links:\n",
        "- https://datahacker.rs/004-computational-graph-and-autograd-with-pytorch/\n",
        "- http://colah.github.io/posts/2015-08-Backprop/"
      ]
    },
    {
      "cell_type": "code",
      "execution_count": 1,
      "id": "9f9e10cf-4871-4502-9852-a997dbbb268a",
      "metadata": {
        "id": "9f9e10cf-4871-4502-9852-a997dbbb268a"
      },
      "outputs": [],
      "source": [
        "import numpy as np\n",
        "import matplotlib.pyplot as plt\n",
        "import torch\n",
        "%matplotlib inline\n",
        "%config InlineBackend.figure_format='retina'"
      ]
    },
    {
      "cell_type": "code",
      "execution_count": 2,
      "id": "645f2d61-a7f9-4d10-8684-c9758d32bf8a",
      "metadata": {
        "id": "645f2d61-a7f9-4d10-8684-c9758d32bf8a"
      },
      "outputs": [],
      "source": [
        "x = torch.tensor(5.0)"
      ]
    },
    {
      "cell_type": "code",
      "execution_count": 3,
      "id": "c5603bca-22ec-40d3-8b21-6770c1c6b993",
      "metadata": {
        "id": "c5603bca-22ec-40d3-8b21-6770c1c6b993"
      },
      "outputs": [],
      "source": [
        "w = torch.tensor(3.0, requires_grad=True)"
      ]
    },
    {
      "cell_type": "code",
      "execution_count": 4,
      "id": "1cefc866-92c7-4b33-b3df-1dc3d69a1fa9",
      "metadata": {
        "id": "1cefc866-92c7-4b33-b3df-1dc3d69a1fa9",
        "outputId": "2a9c6c37-70b8-4049-e164-3ae209404e39",
        "colab": {
          "base_uri": "https://localhost:8080/"
        }
      },
      "outputs": [
        {
          "output_type": "execute_result",
          "data": {
            "text/plain": [
              "tensor(45., grad_fn=<MulBackward0>)"
            ]
          },
          "metadata": {},
          "execution_count": 4
        }
      ],
      "source": [
        "z = x * w**2\n",
        "z"
      ]
    },
    {
      "cell_type": "code",
      "execution_count": 5,
      "id": "b81f0375-3081-4deb-ab64-1357362201d1",
      "metadata": {
        "id": "b81f0375-3081-4deb-ab64-1357362201d1",
        "outputId": "abef6d43-4a63-421f-a703-0992ee2abc48",
        "colab": {
          "base_uri": "https://localhost:8080/"
        }
      },
      "outputs": [
        {
          "output_type": "stream",
          "name": "stdout",
          "text": [
            "x.grad = None\n"
          ]
        }
      ],
      "source": [
        "z.backward()\n",
        "print(f'x.grad = {x.grad}')"
      ]
    },
    {
      "cell_type": "code",
      "execution_count": 7,
      "id": "c301d526-1483-43cd-bbfe-27345b72778a",
      "metadata": {
        "id": "c301d526-1483-43cd-bbfe-27345b72778a",
        "outputId": "f5522287-1feb-4921-ab81-6b98187e829e",
        "colab": {
          "base_uri": "https://localhost:8080/"
        }
      },
      "outputs": [
        {
          "output_type": "stream",
          "name": "stdout",
          "text": [
            "w.grad = 30.0\n"
          ]
        }
      ],
      "source": [
        "print(f'w.grad = {w.grad}')"
      ]
    },
    {
      "cell_type": "code",
      "execution_count": 8,
      "id": "0257a9b3-9aa2-43f1-b442-568ac0f64a17",
      "metadata": {
        "id": "0257a9b3-9aa2-43f1-b442-568ac0f64a17",
        "outputId": "a0c88d4a-6487-4f53-b2fa-69dd8766791e",
        "colab": {
          "base_uri": "https://localhost:8080/"
        }
      },
      "outputs": [
        {
          "output_type": "execute_result",
          "data": {
            "text/plain": [
              "tensor(30.)"
            ]
          },
          "metadata": {},
          "execution_count": 8
        }
      ],
      "source": [
        "w.grad"
      ]
    },
    {
      "cell_type": "markdown",
      "id": "1a9415e2-8cfb-4f50-9b03-cd081e637f55",
      "metadata": {
        "id": "1a9415e2-8cfb-4f50-9b03-cd081e637f55"
      },
      "source": [
        "Now $\\frac{\\partial z}{\\partial w} = 2 x w$"
      ]
    },
    {
      "cell_type": "code",
      "execution_count": 9,
      "id": "12bf5611-c1d4-4672-8318-a9a843f20533",
      "metadata": {
        "id": "12bf5611-c1d4-4672-8318-a9a843f20533",
        "outputId": "13b670fd-37aa-41aa-f0e4-755f0f6c45e0",
        "colab": {
          "base_uri": "https://localhost:8080/"
        }
      },
      "outputs": [
        {
          "output_type": "execute_result",
          "data": {
            "text/plain": [
              "tensor(30., grad_fn=<MulBackward0>)"
            ]
          },
          "metadata": {},
          "execution_count": 9
        }
      ],
      "source": [
        "2 * x * w"
      ]
    },
    {
      "cell_type": "markdown",
      "id": "1272a33e-5ea0-405a-9e11-16f4abf969ec",
      "metadata": {
        "id": "1272a33e-5ea0-405a-9e11-16f4abf969ec"
      },
      "source": [
        "### Computing derivatives ... or not\n",
        "https://pytorch.org/docs/stable/generated/torch.tensor.html#torch.tensor"
      ]
    },
    {
      "cell_type": "code",
      "execution_count": 10,
      "id": "d83f4170-9093-49f3-9e5f-91119550281a",
      "metadata": {
        "id": "d83f4170-9093-49f3-9e5f-91119550281a",
        "outputId": "781d395e-f0c4-4fb4-ee7f-392ff9461757",
        "colab": {
          "base_uri": "https://localhost:8080/"
        }
      },
      "outputs": [
        {
          "output_type": "stream",
          "name": "stdout",
          "text": [
            "y.requires_grad = True\n",
            "dz/dx = 12.0\n"
          ]
        }
      ],
      "source": [
        "x = torch.tensor(2.0, requires_grad=True)\n",
        "y = x*x\n",
        "print(f'y.requires_grad = {y.requires_grad}')\n",
        "z = x*y\n",
        "z.backward()\n",
        "print(f'dz/dx = {x.grad}')"
      ]
    },
    {
      "cell_type": "markdown",
      "id": "6051ff2d-089f-4383-b0f0-be25754a6100",
      "metadata": {
        "id": "6051ff2d-089f-4383-b0f0-be25754a6100"
      },
      "source": [
        "We can \"detach\" a variable from the computation graph...\n",
        "https://pytorch.org/docs/stable/generated/torch.Tensor.detach.html"
      ]
    },
    {
      "cell_type": "code",
      "execution_count": 11,
      "id": "4fd521c8-784b-4db7-86ef-1fd482f212f4",
      "metadata": {
        "id": "4fd521c8-784b-4db7-86ef-1fd482f212f4",
        "outputId": "6ad9f39d-2283-4ed2-c28d-09d0d14e3d16",
        "colab": {
          "base_uri": "https://localhost:8080/"
        }
      },
      "outputs": [
        {
          "output_type": "stream",
          "name": "stdout",
          "text": [
            "y.requires_grad = False\n",
            "dz/dx = 4.0\n"
          ]
        }
      ],
      "source": [
        "x = torch.tensor(2.0, requires_grad=True)\n",
        "y = x*x\n",
        "y = y.detach() # can't say y.requires_grad = False\n",
        "print(f'y.requires_grad = {y.requires_grad}')\n",
        "z = x*y\n",
        "z.backward()\n",
        "print(f'dz/dx = {x.grad}')"
      ]
    },
    {
      "cell_type": "markdown",
      "id": "50dd8279-13bc-4b80-9253-4972a0f4eb61",
      "metadata": {
        "id": "50dd8279-13bc-4b80-9253-4972a0f4eb61"
      },
      "source": [
        "or"
      ]
    },
    {
      "cell_type": "code",
      "execution_count": 12,
      "id": "54650b3c-e9d4-40fc-b45f-c8a76b84bba3",
      "metadata": {
        "id": "54650b3c-e9d4-40fc-b45f-c8a76b84bba3",
        "outputId": "a1b2e1a5-f3c2-4417-9d1a-655fe92720cb",
        "colab": {
          "base_uri": "https://localhost:8080/"
        }
      },
      "outputs": [
        {
          "output_type": "stream",
          "name": "stdout",
          "text": [
            "y.requires_grad = False\n",
            "dz/dx = 4.0\n"
          ]
        }
      ],
      "source": [
        "x = torch.tensor(2.0, requires_grad=True)\n",
        "with torch.no_grad():\n",
        "    y = x*x\n",
        "print(f'y.requires_grad = {y.requires_grad}')\n",
        "z = x*y\n",
        "z.backward()\n",
        "print(f'dz/dx = {x.grad}')"
      ]
    },
    {
      "cell_type": "markdown",
      "id": "b76c7312-41db-44c0-9d53-9025f3517950",
      "metadata": {
        "id": "b76c7312-41db-44c0-9d53-9025f3517950"
      },
      "source": [
        "### Computation graphs are not trees\n",
        "\n",
        "Re-using a parameter in multiple places makes the graph not be a tree. It's a DAG."
      ]
    },
    {
      "cell_type": "code",
      "execution_count": 33,
      "id": "209ac1d8-7a8e-4201-a5a7-2323fc9052a6",
      "metadata": {
        "id": "209ac1d8-7a8e-4201-a5a7-2323fc9052a6",
        "outputId": "1a8aa03b-7635-452d-87a9-a42f133c738e",
        "colab": {
          "base_uri": "https://localhost:8080/"
        }
      },
      "outputs": [
        {
          "output_type": "execute_result",
          "data": {
            "text/plain": [
              "tensor(8.)"
            ]
          },
          "metadata": {},
          "execution_count": 33
        }
      ],
      "source": [
        "x = torch.tensor(2.0, requires_grad=True)\n",
        "y = 3*x\n",
        "z = x**2\n",
        "w = y + z + x\n",
        "w.backward()\n",
        "x.grad"
      ]
    },
    {
      "cell_type": "markdown",
      "id": "d8c4fa5c-8009-486c-a681-602d5c72774f",
      "metadata": {
        "id": "d8c4fa5c-8009-486c-a681-602d5c72774f"
      },
      "source": [
        "$\\frac{\\partial w}{\\partial x} = \\frac{\\partial}{\\partial x}(3x + x^2 + x) = 3 + 2x + 1$"
      ]
    },
    {
      "cell_type": "code",
      "execution_count": 34,
      "id": "681f016d-723d-4aa1-9697-f8d374272ca7",
      "metadata": {
        "id": "681f016d-723d-4aa1-9697-f8d374272ca7",
        "outputId": "bff5e02f-2a30-488a-f96e-e2ed01174267",
        "colab": {
          "base_uri": "https://localhost:8080/"
        }
      },
      "outputs": [
        {
          "output_type": "execute_result",
          "data": {
            "text/plain": [
              "tensor(8., grad_fn=<AddBackward0>)"
            ]
          },
          "metadata": {},
          "execution_count": 34
        }
      ],
      "source": [
        "3 + 2*x + 1"
      ]
    },
    {
      "cell_type": "code",
      "execution_count": 35,
      "id": "b50f7554-6d1d-4d73-953b-66de95626983",
      "metadata": {
        "id": "b50f7554-6d1d-4d73-953b-66de95626983"
      },
      "outputs": [],
      "source": [
        "x = torch.tensor(3.0, requires_grad=True)\n",
        "y = x**2\n",
        "z1 = 3*y\n",
        "z2 = 4*y"
      ]
    },
    {
      "cell_type": "code",
      "execution_count": 36,
      "id": "0525f477-2247-420a-b112-f25342434071",
      "metadata": {
        "id": "0525f477-2247-420a-b112-f25342434071",
        "outputId": "dcb69a0a-c29f-45fb-eb0e-56eb863d886e",
        "colab": {
          "base_uri": "https://localhost:8080/"
        }
      },
      "outputs": [
        {
          "output_type": "execute_result",
          "data": {
            "text/plain": [
              "tensor(18.)"
            ]
          },
          "metadata": {},
          "execution_count": 36
        }
      ],
      "source": [
        "z1.backward() # (retain_graph=True)\n",
        "x.grad"
      ]
    },
    {
      "cell_type": "code",
      "execution_count": 37,
      "id": "38c8d0ca-2899-45df-977a-db3727a15da1",
      "metadata": {
        "id": "38c8d0ca-2899-45df-977a-db3727a15da1",
        "outputId": "f6a6b771-581d-4845-c5dd-2de31faf03b7",
        "colab": {
          "base_uri": "https://localhost:8080/",
          "height": 363
        }
      },
      "outputs": [
        {
          "output_type": "error",
          "ename": "RuntimeError",
          "evalue": "ignored",
          "traceback": [
            "\u001b[0;31m---------------------------------------------------------------------------\u001b[0m",
            "\u001b[0;31mRuntimeError\u001b[0m                              Traceback (most recent call last)",
            "\u001b[0;32m<ipython-input-37-1a4c99d3d2ee>\u001b[0m in \u001b[0;36m<module>\u001b[0;34m\u001b[0m\n\u001b[0;32m----> 1\u001b[0;31m \u001b[0mz2\u001b[0m\u001b[0;34m.\u001b[0m\u001b[0mbackward\u001b[0m\u001b[0;34m(\u001b[0m\u001b[0;34m)\u001b[0m\u001b[0;34m\u001b[0m\u001b[0;34m\u001b[0m\u001b[0m\n\u001b[0m\u001b[1;32m      2\u001b[0m \u001b[0mx\u001b[0m\u001b[0;34m.\u001b[0m\u001b[0mgrad\u001b[0m\u001b[0;34m\u001b[0m\u001b[0;34m\u001b[0m\u001b[0m\n",
            "\u001b[0;32m/usr/local/lib/python3.7/dist-packages/torch/_tensor.py\u001b[0m in \u001b[0;36mbackward\u001b[0;34m(self, gradient, retain_graph, create_graph, inputs)\u001b[0m\n\u001b[1;32m    394\u001b[0m                 \u001b[0mcreate_graph\u001b[0m\u001b[0;34m=\u001b[0m\u001b[0mcreate_graph\u001b[0m\u001b[0;34m,\u001b[0m\u001b[0;34m\u001b[0m\u001b[0;34m\u001b[0m\u001b[0m\n\u001b[1;32m    395\u001b[0m                 inputs=inputs)\n\u001b[0;32m--> 396\u001b[0;31m         \u001b[0mtorch\u001b[0m\u001b[0;34m.\u001b[0m\u001b[0mautograd\u001b[0m\u001b[0;34m.\u001b[0m\u001b[0mbackward\u001b[0m\u001b[0;34m(\u001b[0m\u001b[0mself\u001b[0m\u001b[0;34m,\u001b[0m \u001b[0mgradient\u001b[0m\u001b[0;34m,\u001b[0m \u001b[0mretain_graph\u001b[0m\u001b[0;34m,\u001b[0m \u001b[0mcreate_graph\u001b[0m\u001b[0;34m,\u001b[0m \u001b[0minputs\u001b[0m\u001b[0;34m=\u001b[0m\u001b[0minputs\u001b[0m\u001b[0;34m)\u001b[0m\u001b[0;34m\u001b[0m\u001b[0;34m\u001b[0m\u001b[0m\n\u001b[0m\u001b[1;32m    397\u001b[0m \u001b[0;34m\u001b[0m\u001b[0m\n\u001b[1;32m    398\u001b[0m     \u001b[0;32mdef\u001b[0m \u001b[0mregister_hook\u001b[0m\u001b[0;34m(\u001b[0m\u001b[0mself\u001b[0m\u001b[0;34m,\u001b[0m \u001b[0mhook\u001b[0m\u001b[0;34m)\u001b[0m\u001b[0;34m:\u001b[0m\u001b[0;34m\u001b[0m\u001b[0;34m\u001b[0m\u001b[0m\n",
            "\u001b[0;32m/usr/local/lib/python3.7/dist-packages/torch/autograd/__init__.py\u001b[0m in \u001b[0;36mbackward\u001b[0;34m(tensors, grad_tensors, retain_graph, create_graph, grad_variables, inputs)\u001b[0m\n\u001b[1;32m    173\u001b[0m     Variable._execution_engine.run_backward(  # Calls into the C++ engine to run the backward pass\n\u001b[1;32m    174\u001b[0m         \u001b[0mtensors\u001b[0m\u001b[0;34m,\u001b[0m \u001b[0mgrad_tensors_\u001b[0m\u001b[0;34m,\u001b[0m \u001b[0mretain_graph\u001b[0m\u001b[0;34m,\u001b[0m \u001b[0mcreate_graph\u001b[0m\u001b[0;34m,\u001b[0m \u001b[0minputs\u001b[0m\u001b[0;34m,\u001b[0m\u001b[0;34m\u001b[0m\u001b[0;34m\u001b[0m\u001b[0m\n\u001b[0;32m--> 175\u001b[0;31m         allow_unreachable=True, accumulate_grad=True)  # Calls into the C++ engine to run the backward pass\n\u001b[0m\u001b[1;32m    176\u001b[0m \u001b[0;34m\u001b[0m\u001b[0m\n\u001b[1;32m    177\u001b[0m def grad(\n",
            "\u001b[0;31mRuntimeError\u001b[0m: Trying to backward through the graph a second time (or directly access saved tensors after they have already been freed). Saved intermediate values of the graph are freed when you call .backward() or autograd.grad(). Specify retain_graph=True if you need to backward through the graph a second time or if you need to access saved tensors after calling backward."
          ]
        }
      ],
      "source": [
        "z2.backward()\n",
        "x.grad"
      ]
    },
    {
      "cell_type": "markdown",
      "id": "9d0d9823-e99c-4291-9659-ba9740856172",
      "metadata": {
        "id": "9d0d9823-e99c-4291-9659-ba9740856172"
      },
      "source": [
        "### Accumulating effect\n",
        "\n",
        "`.grad` stores the gradient.  Take a look:\n",
        "https://pytorch.org/docs/stable/generated/torch.autograd.grad.html"
      ]
    },
    {
      "cell_type": "code",
      "execution_count": 29,
      "id": "893fff7d-100f-493f-80f1-de7056f2840d",
      "metadata": {
        "id": "893fff7d-100f-493f-80f1-de7056f2840d",
        "outputId": "0ba56557-d2ad-4143-fb31-e632e2029d7b",
        "colab": {
          "base_uri": "https://localhost:8080/"
        }
      },
      "outputs": [
        {
          "output_type": "stream",
          "name": "stdout",
          "text": [
            "None\n",
            "tensor(18.)\n",
            "tensor(36.)\n"
          ]
        }
      ],
      "source": [
        "x = torch.tensor(3.0, requires_grad=True)\n",
        "y = x**2\n",
        "z = 3*y\n",
        "print(x.grad)\n",
        "\n",
        "z.backward()\n",
        "print(x.grad)\n",
        "\n",
        "#x.grad.zero_()\n",
        "y = x**2\n",
        "z = 3*y\n",
        "z.backward()\n",
        "print(x.grad)"
      ]
    },
    {
      "cell_type": "markdown",
      "id": "0f1a9efa-ffc7-4bd3-853a-f22a98ca1c77",
      "metadata": {
        "id": "0f1a9efa-ffc7-4bd3-853a-f22a98ca1c77"
      },
      "source": [
        "#### Derivatives of scalars with respect to tensors"
      ]
    },
    {
      "cell_type": "code",
      "execution_count": 20,
      "id": "6b6742c7-29b9-4543-b233-808145b51be3",
      "metadata": {
        "id": "6b6742c7-29b9-4543-b233-808145b51be3",
        "outputId": "b6f6a6c9-ae5b-4e8f-fa23-887388e26ecf",
        "colab": {
          "base_uri": "https://localhost:8080/"
        }
      },
      "outputs": [
        {
          "output_type": "execute_result",
          "data": {
            "text/plain": [
              "tensor([2., 4., 6.])"
            ]
          },
          "metadata": {},
          "execution_count": 20
        }
      ],
      "source": [
        "x = torch.tensor([1.0, 2.0, 3.0], requires_grad=True)\n",
        "y = (x**2).sum()\n",
        "y.backward()\n",
        "x.grad"
      ]
    },
    {
      "cell_type": "markdown",
      "id": "70afcf67-5eb7-4e5d-b884-b85dc513f745",
      "metadata": {
        "id": "70afcf67-5eb7-4e5d-b884-b85dc513f745"
      },
      "source": [
        "#### Don't do in-place modifications to tensors\n",
        "\n",
        "But it's fine to do `x = 4 * x`"
      ]
    },
    {
      "cell_type": "code",
      "execution_count": 21,
      "id": "73a6f66f-7247-49ea-b762-0ef1040e10b5",
      "metadata": {
        "id": "73a6f66f-7247-49ea-b762-0ef1040e10b5",
        "outputId": "295c2fe3-8f48-4030-ebc7-a617ea99e62b",
        "colab": {
          "base_uri": "https://localhost:8080/"
        }
      },
      "outputs": [
        {
          "output_type": "execute_result",
          "data": {
            "text/plain": [
              "tensor([1., 2., 3.], requires_grad=True)"
            ]
          },
          "metadata": {},
          "execution_count": 21
        }
      ],
      "source": [
        "x = torch.tensor([1.0, 2.0, 3.0], requires_grad=True)\n",
        "x"
      ]
    },
    {
      "cell_type": "code",
      "execution_count": 22,
      "id": "fe1810d6-4c9b-4478-9c62-852d3d90d84d",
      "metadata": {
        "id": "fe1810d6-4c9b-4478-9c62-852d3d90d84d",
        "outputId": "63c1c955-7a1f-4926-b1e3-a5aed8d7109b",
        "colab": {
          "base_uri": "https://localhost:8080/",
          "height": 200
        }
      },
      "outputs": [
        {
          "output_type": "error",
          "ename": "RuntimeError",
          "evalue": "ignored",
          "traceback": [
            "\u001b[0;31m---------------------------------------------------------------------------\u001b[0m",
            "\u001b[0;31mRuntimeError\u001b[0m                              Traceback (most recent call last)",
            "\u001b[0;32m<ipython-input-22-7ee7afe976bc>\u001b[0m in \u001b[0;36m<module>\u001b[0;34m\u001b[0m\n\u001b[0;32m----> 1\u001b[0;31m \u001b[0mx\u001b[0m\u001b[0;34m[\u001b[0m\u001b[0;36m1\u001b[0m\u001b[0;34m]\u001b[0m \u001b[0;34m=\u001b[0m \u001b[0mx\u001b[0m\u001b[0;34m[\u001b[0m\u001b[0;36m2\u001b[0m\u001b[0;34m]\u001b[0m \u001b[0;34m+\u001b[0m \u001b[0;36m1\u001b[0m\u001b[0;34m\u001b[0m\u001b[0;34m\u001b[0m\u001b[0m\n\u001b[0m\u001b[1;32m      2\u001b[0m \u001b[0;31m#x = 4*x\u001b[0m\u001b[0;34m\u001b[0m\u001b[0;34m\u001b[0m\u001b[0;34m\u001b[0m\u001b[0m\n\u001b[1;32m      3\u001b[0m \u001b[0mx\u001b[0m\u001b[0;34m\u001b[0m\u001b[0;34m\u001b[0m\u001b[0m\n",
            "\u001b[0;31mRuntimeError\u001b[0m: a view of a leaf Variable that requires grad is being used in an in-place operation."
          ]
        }
      ],
      "source": [
        "x[1] = x[2] + 1\n",
        "#x = 4*x\n",
        "x"
      ]
    },
    {
      "cell_type": "code",
      "execution_count": 30,
      "id": "fdb51288-27d0-4f08-ad4b-29b2443f2774",
      "metadata": {
        "id": "fdb51288-27d0-4f08-ad4b-29b2443f2774"
      },
      "outputs": [],
      "source": [
        "y = (x**2).sum()\n",
        "y.backward()"
      ]
    },
    {
      "cell_type": "markdown",
      "id": "8fe32697-1d18-4e21-b833-7e8d0ecabeff",
      "metadata": {
        "id": "8fe32697-1d18-4e21-b833-7e8d0ecabeff"
      },
      "source": [
        "#### Results can be slightly different from what you expect...\n",
        "\n",
        "Since we're building the graph as computations are being done, functions like `max()` become differentiable"
      ]
    },
    {
      "cell_type": "code",
      "execution_count": 31,
      "id": "b0a508de-f8ee-4f1c-a858-052e67e37355",
      "metadata": {
        "id": "b0a508de-f8ee-4f1c-a858-052e67e37355",
        "outputId": "b1bf2a01-6882-4ca0-a522-e1bbefa979b6",
        "colab": {
          "base_uri": "https://localhost:8080/"
        }
      },
      "outputs": [
        {
          "output_type": "execute_result",
          "data": {
            "text/plain": [
              "tensor(4., grad_fn=<MaxBackward1>)"
            ]
          },
          "metadata": {},
          "execution_count": 31
        }
      ],
      "source": [
        "x = torch.tensor([1.0, 2.0, 4.0, 3.0, 0.5], requires_grad=True)\n",
        "max_x = torch.max(x)\n",
        "max_x"
      ]
    },
    {
      "cell_type": "code",
      "execution_count": 32,
      "id": "64c45262-a15f-4b19-8ffa-336757a6262f",
      "metadata": {
        "id": "64c45262-a15f-4b19-8ffa-336757a6262f",
        "outputId": "8387806a-7206-4bb4-a5e1-cdc4e0338bd9",
        "colab": {
          "base_uri": "https://localhost:8080/"
        }
      },
      "outputs": [
        {
          "output_type": "execute_result",
          "data": {
            "text/plain": [
              "tensor([0., 0., 1., 0., 0.])"
            ]
          },
          "metadata": {},
          "execution_count": 32
        }
      ],
      "source": [
        "max_x.backward()\n",
        "x.grad"
      ]
    }
  ],
  "metadata": {
    "kernelspec": {
      "display_name": "Python 3 (ipykernel)",
      "language": "python",
      "name": "python3"
    },
    "language_info": {
      "codemirror_mode": {
        "name": "ipython",
        "version": 3
      },
      "file_extension": ".py",
      "mimetype": "text/x-python",
      "name": "python",
      "nbconvert_exporter": "python",
      "pygments_lexer": "ipython3",
      "version": "3.9.13"
    },
    "colab": {
      "provenance": []
    }
  },
  "nbformat": 4,
  "nbformat_minor": 5
}