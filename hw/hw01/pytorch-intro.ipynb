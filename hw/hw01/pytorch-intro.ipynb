{
  "cells": [
    {
      "cell_type": "markdown",
      "metadata": {
        "tags": [],
        "id": "n4CPxCr2evLh"
      },
      "source": [
        "# Introduction to PyTorch\n",
        "\n",
        "A few links:\n",
        "- https://github.com/nicknytko/cse-pytorch-workshop\n",
        "- PyTorch tutorials: https://pytorch.org/tutorials/\n",
        "- PyTorch manual: https://pytorch.org/docs/stable/index.html\n",
        "- PyTorch paper: https://openreview.net/forum?id=BJJsrmfCZ\n",
        "- Calculus on computational graphs: http://colah.github.io/posts/2015-08-Backprop/\n",
        "- Einstein summation in PyTorch: https://rockt.github.io/2018/04/30/einsum\n",
        "\n",
        "Pytorch\n",
        "- 🔥 NumPy-like -- how is it different?\n",
        "- 🔜 Computes derivatives using a (dynamic) computation graph -- what is this?\n",
        "- ⏭️ Library of neural nets -- how will we use these?\n",
        "- ⏭️ Library of optimizers -- why is this important?\n",
        "- ⏭️ Ability to use GPUs -- where/how?"
      ]
    },
    {
      "cell_type": "markdown",
      "metadata": {
        "id": "tuF3IJ7revLr"
      },
      "source": [
        "# Let's get started!"
      ]
    },
    {
      "cell_type": "code",
      "execution_count": 1,
      "metadata": {
        "id": "dXsePr5TevLu"
      },
      "outputs": [],
      "source": [
        "import torch\n",
        "import numpy as np\n",
        "import random, datetime\n",
        "import matplotlib.pyplot as plt\n",
        "%matplotlib inline"
      ]
    },
    {
      "cell_type": "markdown",
      "metadata": {
        "id": "Me_vrMpcevLy"
      },
      "source": [
        "# PyTorch <-> NumPy\n",
        "\n",
        "PyTorch executes immediately (\"eager\") versus delayed or lazy execution in TensorFlow.\n",
        "\n",
        "Tensors are a generalization of a matrix and a vector.  See Einstein notation above!\n",
        "\n",
        "PyTorch is very picky about datatypes, and defaults to single precision (NumPy defaults to double)."
      ]
    },
    {
      "cell_type": "code",
      "execution_count": 2,
      "metadata": {
        "id": "Xl-7MhTWevLz",
        "outputId": "0b83f2ea-66f4-473f-b9a3-a5c8659218f1",
        "colab": {
          "base_uri": "https://localhost:8080/"
        }
      },
      "outputs": [
        {
          "output_type": "stream",
          "name": "stdout",
          "text": [
            "torch.float32\n",
            "tensor([[1., 2., 3.],\n",
            "        [4., 5., 6.]])\n"
          ]
        }
      ],
      "source": [
        "x = torch.tensor([[1.0,2.0,3.0],[4,5,6]])\n",
        "print(x.dtype)\n",
        "print(x)"
      ]
    },
    {
      "cell_type": "markdown",
      "metadata": {
        "id": "JKoZ3-xaevL0"
      },
      "source": [
        "***\n",
        "<font color=red>Challenge</font>: force `x` to be `float64`\n",
        "***"
      ]
    },
    {
      "cell_type": "code",
      "execution_count": 2,
      "metadata": {
        "id": "nfpaVnvRevL1"
      },
      "outputs": [],
      "source": [
        ""
      ]
    },
    {
      "cell_type": "markdown",
      "metadata": {
        "id": "T6zC_aiqevL2"
      },
      "source": [
        "Let's look at a few numpy conversions and numpy-like operations:"
      ]
    },
    {
      "cell_type": "code",
      "execution_count": 3,
      "metadata": {
        "id": "Od8lQ61yevL3"
      },
      "outputs": [],
      "source": [
        "x = np.random.rand(3)\n",
        "\n",
        "y = torch.tensor(x)\n",
        "\n",
        "z = torch.from_numpy(x)"
      ]
    },
    {
      "cell_type": "code",
      "execution_count": 4,
      "metadata": {
        "id": "RsYcQt0mevL4",
        "outputId": "ab24c91e-46df-4f30-86fe-489bc8c18dc1",
        "colab": {
          "base_uri": "https://localhost:8080/"
        }
      },
      "outputs": [
        {
          "output_type": "stream",
          "name": "stdout",
          "text": [
            "[ 0.6528476  88.          0.27372052]\n",
            "tensor([0.6528, 0.2930, 0.2737], dtype=torch.float64)\n",
            "tensor([ 0.6528, 88.0000,  0.2737], dtype=torch.float64)\n"
          ]
        }
      ],
      "source": [
        "x[1] = 88\n",
        "print(x)\n",
        "print(y)\n",
        "print(z)"
      ]
    },
    {
      "cell_type": "markdown",
      "metadata": {
        "id": "d3-MClKtevL5"
      },
      "source": [
        "Notice that `from_numpy()` will create a tensor view of the *same* mameory.  From the docs:\n",
        "```\n",
        "Modifications to the tensor will be reflected in the :attr:`ndarray` and vice versa.\n",
        "```"
      ]
    },
    {
      "cell_type": "markdown",
      "metadata": {
        "id": "wN6-3xD-evL6"
      },
      "source": [
        "Operations..."
      ]
    },
    {
      "cell_type": "code",
      "execution_count": 5,
      "metadata": {
        "id": "fSEpf37oevL6",
        "outputId": "b2f751d2-645d-431b-bb7d-3c562f162b0b",
        "colab": {
          "base_uri": "https://localhost:8080/"
        }
      },
      "outputs": [
        {
          "output_type": "execute_result",
          "data": {
            "text/plain": [
              "tensor([ 8.0000, 17.2000])"
            ]
          },
          "metadata": {},
          "execution_count": 5
        }
      ],
      "source": [
        "A = torch.tensor([[1.0, 2], [3, 4]])\n",
        "v = torch.tensor([1.2, 3.4])\n",
        "\n",
        "A @ v"
      ]
    },
    {
      "cell_type": "markdown",
      "metadata": {
        "id": "6i3VKC3IevL7"
      },
      "source": [
        "***\n",
        "<font color=red>Challenge</font>: write the matvec operation `A @ v` in `.einsum()`\n",
        "***"
      ]
    },
    {
      "cell_type": "code",
      "execution_count": 5,
      "metadata": {
        "id": "5OA1Q5ScevL8"
      },
      "outputs": [],
      "source": [
        ""
      ]
    }
  ],
  "metadata": {
    "kernelspec": {
      "display_name": "Python 3 (ipykernel)",
      "language": "python",
      "name": "python3"
    },
    "language_info": {
      "codemirror_mode": {
        "name": "ipython",
        "version": 3
      },
      "file_extension": ".py",
      "mimetype": "text/x-python",
      "name": "python",
      "nbconvert_exporter": "python",
      "pygments_lexer": "ipython3",
      "version": "3.9.13"
    },
    "colab": {
      "provenance": []
    }
  },
  "nbformat": 4,
  "nbformat_minor": 0
}