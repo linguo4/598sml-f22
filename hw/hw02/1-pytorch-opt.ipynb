{
  "cells": [
    {
      "cell_type": "markdown",
      "metadata": {
        "id": "u-JT7PKOfPNa"
      },
      "source": [
        "# `torch.optim`: All the common gradient-based optimizers"
      ]
    },
    {
      "cell_type": "code",
      "execution_count": 1,
      "metadata": {
        "id": "ICjpj4LpfPNd"
      },
      "outputs": [],
      "source": [
        "import numpy as np\n",
        "import torch\n",
        "import matplotlib.pyplot as plt\n",
        "%matplotlib inline"
      ]
    },
    {
      "cell_type": "markdown",
      "metadata": {
        "id": "ytJRvOqufPNe"
      },
      "source": [
        "## Define a function to minimize\n",
        "\n",
        "This is called a _cost_ function, a _loss_ function, or an _objective_ function, among other names."
      ]
    },
    {
      "cell_type": "code",
      "execution_count": 2,
      "metadata": {
        "id": "zWE_mDnxfPNe"
      },
      "outputs": [],
      "source": [
        "def f(x):\n",
        "    return x**2"
      ]
    },
    {
      "cell_type": "code",
      "execution_count": 3,
      "metadata": {
        "id": "nsTn5054fPNf",
        "outputId": "fb34c6dd-86f6-41cf-ffc3-103108e2a053",
        "colab": {
          "base_uri": "https://localhost:8080/",
          "height": 279
        }
      },
      "outputs": [
        {
          "output_type": "display_data",
          "data": {
            "text/plain": [
              "<Figure size 432x288 with 1 Axes>"
            ],
            "image/png": "[encoded data removed]"
          },
          "metadata": {
            "needs_background": "light"
          }
        }
      ],
      "source": [
        "xvec = np.linspace(-2, 2, 100)\n",
        "fvec = f(xvec)\n",
        "plt.plot(xvec, fvec)\n",
        "plt.xlabel('x')\n",
        "plt.ylabel('f(x)');"
      ]
    },
    {
      "cell_type": "markdown",
      "metadata": {
        "id": "mAA3RUfzfPNg"
      },
      "source": [
        "## Set up a stochastic gradient descent (SGD) optimizer and run it"
      ]
    },
    {
      "cell_type": "markdown",
      "metadata": {
        "id": "MdEC9wE3fPNg"
      },
      "source": [
        "The input `x` need gradients, because the optimizer needs to compute the derivative:\n",
        "$$\n",
        "\\nabla_x f(x) = \\frac{\\partial f}{\\partial x}(x)\n",
        "$$\n",
        "\n",
        "The basic algorithm of a gradient optimizer is to repeat:\n",
        "$$\n",
        "x \\gets x - \\alpha \\nabla_x f(x)\n",
        "$$\n",
        "\n",
        "The parameter $\\alpha$ is called the _learning rate_."
      ]
    },
    {
      "cell_type": "code",
      "execution_count": 4,
      "metadata": {
        "id": "d-T4SnQDfPNi"
      },
      "outputs": [],
      "source": [
        "x = torch.tensor([2.0], requires_grad=True)"
      ]
    },
    {
      "cell_type": "code",
      "execution_count": 5,
      "metadata": {
        "id": "jbscik-kfPNj"
      },
      "outputs": [],
      "source": [
        "opt = torch.optim.SGD([x], lr=0.1)"
      ]
    },
    {
      "cell_type": "markdown",
      "metadata": {
        "id": "w-qUrB2yfPNk"
      },
      "source": [
        "As the optimizer runs, observe the gradient steps:"
      ]
    },
    {
      "cell_type": "code",
      "execution_count": 6,
      "metadata": {
        "id": "IrKK-CzafPNl",
        "outputId": "0be66f71-dc1c-45c0-e50f-923b5c6674ea",
        "colab": {
          "base_uri": "https://localhost:8080/"
        }
      },
      "outputs": [
        {
          "output_type": "stream",
          "name": "stdout",
          "text": [
            "##########\n",
            "i = 0\n",
            "initial x = tensor([2.], requires_grad=True)\n",
            "z = tensor([4.], grad_fn=<PowBackward0>)\n",
            "x.grad = tensor([4.])\n",
            "updated x = tensor([1.6000], requires_grad=True)\n",
            "##########\n",
            "i = 1\n",
            "initial x = tensor([1.6000], requires_grad=True)\n",
            "z = tensor([2.5600], grad_fn=<PowBackward0>)\n",
            "x.grad = tensor([3.2000])\n",
            "updated x = tensor([1.2800], requires_grad=True)\n",
            "##########\n",
            "i = 2\n",
            "initial x = tensor([1.2800], requires_grad=True)\n",
            "z = tensor([1.6384], grad_fn=<PowBackward0>)\n",
            "x.grad = tensor([2.5600])\n",
            "updated x = tensor([1.0240], requires_grad=True)\n",
            "##########\n",
            "i = 3\n",
            "initial x = tensor([1.0240], requires_grad=True)\n",
            "z = tensor([1.0486], grad_fn=<PowBackward0>)\n",
            "x.grad = tensor([2.0480])\n",
            "updated x = tensor([0.8192], requires_grad=True)\n",
            "##########\n",
            "i = 4\n",
            "initial x = tensor([0.8192], requires_grad=True)\n",
            "z = tensor([0.6711], grad_fn=<PowBackward0>)\n",
            "x.grad = tensor([1.6384])\n",
            "updated x = tensor([0.6554], requires_grad=True)\n",
            "##########\n",
            "i = 5\n",
            "initial x = tensor([0.6554], requires_grad=True)\n",
            "z = tensor([0.4295], grad_fn=<PowBackward0>)\n",
            "x.grad = tensor([1.3107])\n",
            "updated x = tensor([0.5243], requires_grad=True)\n",
            "##########\n",
            "i = 6\n",
            "initial x = tensor([0.5243], requires_grad=True)\n",
            "z = tensor([0.2749], grad_fn=<PowBackward0>)\n",
            "x.grad = tensor([1.0486])\n",
            "updated x = tensor([0.4194], requires_grad=True)\n",
            "##########\n",
            "i = 7\n",
            "initial x = tensor([0.4194], requires_grad=True)\n",
            "z = tensor([0.1759], grad_fn=<PowBackward0>)\n",
            "x.grad = tensor([0.8389])\n",
            "updated x = tensor([0.3355], requires_grad=True)\n",
            "##########\n",
            "i = 8\n",
            "initial x = tensor([0.3355], requires_grad=True)\n",
            "z = tensor([0.1126], grad_fn=<PowBackward0>)\n",
            "x.grad = tensor([0.6711])\n",
            "updated x = tensor([0.2684], requires_grad=True)\n",
            "##########\n",
            "i = 9\n",
            "initial x = tensor([0.2684], requires_grad=True)\n",
            "z = tensor([0.0721], grad_fn=<PowBackward0>)\n",
            "x.grad = tensor([0.5369])\n",
            "updated x = tensor([0.2147], requires_grad=True)\n"
          ]
        }
      ],
      "source": [
        "x_history = [x.detach().numpy().copy()]\n",
        "for i in range(10):\n",
        "    print(f'##########')\n",
        "    print(f'i = {i}')\n",
        "    print(f'initial x = {x}')\n",
        "    opt.zero_grad()\n",
        "    z = f(x)\n",
        "    print(f'z = {z}')\n",
        "    z.backward()\n",
        "    print(f'x.grad = {x.grad}')\n",
        "    opt.step()\n",
        "    print(f'updated x = {x}')\n",
        "    x_history.append(x.detach().numpy().copy())"
      ]
    },
    {
      "cell_type": "markdown",
      "metadata": {
        "id": "yAMA1TlBfPNm"
      },
      "source": [
        "## Visualizing optimization history"
      ]
    },
    {
      "cell_type": "markdown",
      "metadata": {
        "id": "nWThl6P3fPNn"
      },
      "source": [
        "Plot the history of `x` versus step number:"
      ]
    },
    {
      "cell_type": "code",
      "execution_count": 7,
      "metadata": {
        "id": "lHm8PL1YfPNo",
        "outputId": "3560883c-3867-4262-c42b-8aa3b83244f7",
        "colab": {
          "base_uri": "https://localhost:8080/",
          "height": 279
        }
      },
      "outputs": [
        {
          "output_type": "display_data",
          "data": {
            "text/plain": [
              "<Figure size 432x288 with 1 Axes>"
            ],
            "image/png": "[encoded data removed]"
          },
          "metadata": {
            "needs_background": "light"
          }
        }
      ],
      "source": [
        "plt.plot(x_history, 'o')\n",
        "plt.ylim(0, 2.1)\n",
        "plt.xlabel('optimization step number')\n",
        "plt.ylabel('x');"
      ]
    },
    {
      "cell_type": "markdown",
      "metadata": {
        "id": "6DbadiwnfPNp"
      },
      "source": [
        "Plot the history of `x` values together with the cost function:"
      ]
    },
    {
      "cell_type": "code",
      "execution_count": 8,
      "metadata": {
        "id": "T5keu2_3fPNp",
        "outputId": "546600ef-1035-4f06-dfd4-42b278b7ce81",
        "colab": {
          "base_uri": "https://localhost:8080/",
          "height": 279
        }
      },
      "outputs": [
        {
          "output_type": "display_data",
          "data": {
            "text/plain": [
              "<Figure size 432x288 with 1 Axes>"
            ],
            "image/png": "[encoded data removed]"
          },
          "metadata": {
            "needs_background": "light"
          }
        }
      ],
      "source": [
        "xvec = np.linspace(-2, 2, 100)\n",
        "fvec = f(xvec)\n",
        "plt.plot(xvec, fvec)\n",
        "plt.plot(x_history, np.zeros(len(x_history)), 'o')\n",
        "plt.xlabel('x')\n",
        "plt.ylabel('f(x)');"
      ]
    },
    {
      "cell_type": "markdown",
      "metadata": {
        "id": "0ruB1dbxfPNq"
      },
      "source": [
        "## Tasks\n",
        "\n",
        "Observe that the rate of change of `x` slows down as the optimization proceeds. Why does this happen?\n",
        "\n",
        "To fix this problem, more advanced gradient methods use momentum, Nesterov acceleration, or second-order derivative information (e.g., the [L-BFGS method](https://en.wikipedia.org/wiki/Limited-memory_BFGS)).\n",
        "\n",
        "1. Read about momentum and related ideas in [An overview of gradient descent optimization algorithms](https://arxiv.org/abs/1609.04747) by Sebastian Ruder\n",
        "\n",
        "2. Use the Adam optimizer from PyTorch to optimize the function above. What differences do you observe?"
      ]
    },
    {
      "cell_type": "code",
      "execution_count": 9,
      "metadata": {
        "id": "a8_Dh-EzfPNq"
      },
      "outputs": [],
      "source": [
        "opt = torch.optim.Adam([x], lr=0.1)"
      ]
    },
    {
      "cell_type": "code",
      "source": [
        "x_history = [x.detach().numpy().copy()]\n",
        "for i in range(10):\n",
        "    print(f'##########')\n",
        "    print(f'i = {i}')\n",
        "    print(f'initial x = {x}')\n",
        "    opt.zero_grad()\n",
        "    z = f(x)\n",
        "    print(f'z = {z}')\n",
        "    z.backward()\n",
        "    print(f'x.grad = {x.grad}')\n",
        "    opt.step()\n",
        "    print(f'updated x = {x}')\n",
        "    x_history.append(x.detach().numpy().copy())"
      ],
      "metadata": {
        "id": "3pXdzSKNfxvi",
        "outputId": "5299ebf1-fe11-47ac-f56b-86916cbfe6cd",
        "colab": {
          "base_uri": "https://localhost:8080/"
        }
      },
      "execution_count": 10,
      "outputs": [
        {
          "output_type": "stream",
          "name": "stdout",
          "text": [
            "##########\n",
            "i = 0\n",
            "initial x = tensor([0.2147], requires_grad=True)\n",
            "z = tensor([0.0461], grad_fn=<PowBackward0>)\n",
            "x.grad = tensor([0.4295])\n",
            "updated x = tensor([0.1147], requires_grad=True)\n",
            "##########\n",
            "i = 1\n",
            "initial x = tensor([0.1147], requires_grad=True)\n",
            "z = tensor([0.0132], grad_fn=<PowBackward0>)\n",
            "x.grad = tensor([0.2295])\n",
            "updated x = tensor([0.0206], requires_grad=True)\n",
            "##########\n",
            "i = 2\n",
            "initial x = tensor([0.0206], requires_grad=True)\n",
            "z = tensor([0.0004], grad_fn=<PowBackward0>)\n",
            "x.grad = tensor([0.0411])\n",
            "updated x = tensor([-0.0573], requires_grad=True)\n",
            "##########\n",
            "i = 3\n",
            "initial x = tensor([-0.0573], requires_grad=True)\n",
            "z = tensor([0.0033], grad_fn=<PowBackward0>)\n",
            "x.grad = tensor([-0.1147])\n",
            "updated x = tensor([-0.1062], requires_grad=True)\n",
            "##########\n",
            "i = 4\n",
            "initial x = tensor([-0.1062], requires_grad=True)\n",
            "z = tensor([0.0113], grad_fn=<PowBackward0>)\n",
            "x.grad = tensor([-0.2124])\n",
            "updated x = tensor([-0.1229], requires_grad=True)\n",
            "##########\n",
            "i = 5\n",
            "initial x = tensor([-0.1229], requires_grad=True)\n",
            "z = tensor([0.0151], grad_fn=<PowBackward0>)\n",
            "x.grad = tensor([-0.2458])\n",
            "updated x = tensor([-0.1145], requires_grad=True)\n",
            "##########\n",
            "i = 6\n",
            "initial x = tensor([-0.1145], requires_grad=True)\n",
            "z = tensor([0.0131], grad_fn=<PowBackward0>)\n",
            "x.grad = tensor([-0.2291])\n",
            "updated x = tensor([-0.0896], requires_grad=True)\n",
            "##########\n",
            "i = 7\n",
            "initial x = tensor([-0.0896], requires_grad=True)\n",
            "z = tensor([0.0080], grad_fn=<PowBackward0>)\n",
            "x.grad = tensor([-0.1791])\n",
            "updated x = tensor([-0.0550], requires_grad=True)\n",
            "##########\n",
            "i = 8\n",
            "initial x = tensor([-0.0550], requires_grad=True)\n",
            "z = tensor([0.0030], grad_fn=<PowBackward0>)\n",
            "x.grad = tensor([-0.1100])\n",
            "updated x = tensor([-0.0167], requires_grad=True)\n",
            "##########\n",
            "i = 9\n",
            "initial x = tensor([-0.0167], requires_grad=True)\n",
            "z = tensor([0.0003], grad_fn=<PowBackward0>)\n",
            "x.grad = tensor([-0.0334])\n",
            "updated x = tensor([0.0198], requires_grad=True)\n"
          ]
        }
      ]
    },
    {
      "cell_type": "code",
      "source": [
        "plt.plot(x_history, 'o')\n",
        "plt.ylim(0, 1.0)\n",
        "plt.xlabel('optimization step number')\n",
        "plt.ylabel('x');"
      ],
      "metadata": {
        "id": "cv4uC5tnf4yF",
        "outputId": "bac8e9d2-2a70-4297-d8e9-bc0dcf44639e",
        "colab": {
          "base_uri": "https://localhost:8080/",
          "height": 283
        }
      },
      "execution_count": 12,
      "outputs": [
        {
          "output_type": "display_data",
          "data": {
            "text/plain": [
              "<Figure size 432x288 with 1 Axes>"
            ],
            "image/png": "[encoded data removed]"
          },
          "metadata": {
            "needs_background": "light"
          }
        }
      ]
    },
    {
      "cell_type": "code",
      "source": [
        "xvec = np.linspace(-2, 2, 100)\n",
        "fvec = f(xvec)\n",
        "plt.plot(xvec, fvec)\n",
        "plt.plot(x_history, np.zeros(len(x_history)), 'o')\n",
        "plt.xlabel('x')\n",
        "plt.ylabel('f(x)');"
      ],
      "metadata": {
        "id": "qcXfihHBgEwW",
        "outputId": "b0f06a76-dd24-42b8-96b0-bd5c8cccbd80",
        "colab": {
          "base_uri": "https://localhost:8080/",
          "height": 279
        }
      },
      "execution_count": 13,
      "outputs": [
        {
          "output_type": "display_data",
          "data": {
            "text/plain": [
              "<Figure size 432x288 with 1 Axes>"
            ],
            "image/png": "[encoded data removed]"
          },
          "metadata": {
            "needs_background": "light"
          }
        }
      ]
    },
    {
      "cell_type": "markdown",
      "source": [
        "Observation: With Adam optimizer it trains much faster!"
      ],
      "metadata": {
        "id": "P20zTyhlgG1P"
      }
    }
  ],
  "metadata": {
    "kernelspec": {
      "display_name": "Python 3 (ipykernel)",
      "language": "python",
      "name": "python3"
    },
    "language_info": {
      "codemirror_mode": {
        "name": "ipython",
        "version": 3
      },
      "file_extension": ".py",
      "mimetype": "text/x-python",
      "name": "python",
      "nbconvert_exporter": "python",
      "pygments_lexer": "ipython3",
      "version": "3.9.12"
    },
    "colab": {
      "provenance": []
    }
  },
  "nbformat": 4,
  "nbformat_minor": 0
}