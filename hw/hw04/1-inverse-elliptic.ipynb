{
  "cells": [
    {
      "cell_type": "markdown",
      "metadata": {
        "tags": [],
        "id": "0aj1uaIyd9fO"
      },
      "source": [
        "# Solving an inverse problem"
      ]
    },
    {
      "cell_type": "code",
      "source": [
        "%load_ext tensorboard"
      ],
      "metadata": {
        "id": "a0G3q7QFnl1g"
      },
      "execution_count": 1,
      "outputs": []
    },
    {
      "cell_type": "code",
      "execution_count": 2,
      "metadata": {
        "id": "nALbzIAud9fP"
      },
      "outputs": [],
      "source": [
        "import numpy as np\n",
        "import torch\n",
        "import tensorboard, datetime\n",
        "import matplotlib.pyplot as plt\n",
        "from torch import nn\n",
        "%matplotlib inline"
      ]
    },
    {
      "cell_type": "markdown",
      "metadata": {
        "id": "og5tlJdbd9fQ"
      },
      "source": [
        "## PDE\n",
        "\n",
        "$\\frac{\\partial^2 u}{\\partial x^2} = f(x) \\text{ for } x \\in (0,1)$\n",
        "\n",
        "$u(0) = u(1) = 0$\n",
        "\n",
        "$f(x)$ is unknown, but we are given training samples $\\{x_i,u_i\\}$"
      ]
    },
    {
      "cell_type": "markdown",
      "metadata": {
        "id": "xNcCB_ccd9fR"
      },
      "source": [
        "## Training data"
      ]
    },
    {
      "cell_type": "code",
      "execution_count": 3,
      "metadata": {
        "id": "et82-rdfd9fR"
      },
      "outputs": [],
      "source": [
        "def u_true(x):\n",
        "    return (1/48)*(8*x*(x**2 - 1) - (3/np.pi**2)*np.sin(4*np.pi*x))"
      ]
    },
    {
      "cell_type": "code",
      "execution_count": 4,
      "metadata": {
        "id": "bWDili1jd9fR",
        "outputId": "08579574-d114-42a1-fa1c-1b4ff08c98f0",
        "colab": {
          "base_uri": "https://localhost:8080/",
          "height": 296
        }
      },
      "outputs": [
        {
          "output_type": "execute_result",
          "data": {
            "text/plain": [
              "Text(0, 0.5, 'y')"
            ]
          },
          "metadata": {},
          "execution_count": 4
        },
        {
          "output_type": "display_data",
          "data": {
            "text/plain": [
              "<Figure size 432x288 with 1 Axes>"
            ],
            "image/png": "[encoded data removed]"
          },
          "metadata": {
            "needs_background": "light"
          }
        }
      ],
      "source": [
        "x_train = np.random.rand(100)\n",
        "u_train = u_true(x_train)\n",
        "plt.plot(x_train, u_train, 'x')\n",
        "plt.xlabel('x')\n",
        "plt.ylabel('y')"
      ]
    },
    {
      "cell_type": "code",
      "source": [
        "class ffnn(nn.Module):\n",
        "    \"\"\"basic FF network for approximating functions\"\"\"\n",
        "    def __init__(self, nn_width=10, num_hidden=2):\n",
        "        super().__init__()\n",
        "        \n",
        "        self.layer_first = nn.Linear(1, nn_width)\n",
        "        \n",
        "        layers = []\n",
        "        for _ in range(num_hidden):\n",
        "            layers.append(nn.Linear(nn_width, nn_width))\n",
        "        self.layer_hidden = nn.ModuleList(layers)\n",
        "        \n",
        "        self.layer_last = nn.Linear(nn_width, 2)\n",
        "        \n",
        "    def forward(self, x):\n",
        "        xt = x\n",
        "        activation = nn.Tanh()\n",
        "        u = activation(self.layer_first(xt))\n",
        "        for hidden in self.layer_hidden:\n",
        "            u = activation(hidden(u))\n",
        "        u = self.layer_last(u)\n",
        "        return u"
      ],
      "metadata": {
        "id": "g_Nz5mNioGrD"
      },
      "execution_count": 15,
      "outputs": []
    },
    {
      "cell_type": "code",
      "source": [
        "torch.manual_seed(23939)\n",
        "model = ffnn(15, 2)\n",
        "\n",
        "lr = 0.001\n",
        "opt = torch.optim.Adam(model.parameters(), lr)\n",
        "n_epochs = 10000\n",
        "loss_history = []\n",
        "\n",
        "## Loss = MSE(u - u_i) + MSE(r_i)\n",
        "def loss_function(model, x, u_true): \n",
        "    output = model(x)\n",
        "    u = output[:, 0][:, None]\n",
        "    f = output[:, 1][:, None]\n",
        "    u_x = torch.autograd.grad(u, x, grad_outputs=torch.ones_like(x), create_graph=True, retain_graph=True)[0]\n",
        "    u_xx = torch.autograd.grad(u_x, x, grad_outputs=torch.ones_like(x), create_graph=True, retain_graph=True)[0]\n",
        "    loss_bc1 = model(torch.zeros_like(u))\n",
        "    loss_bc2 = model(torch.ones_like(u))\n",
        "    loss = torch.pow(u_xx-f, 2).mean() + 1000* torch.pow(u-u_true, 2).mean() + loss_bc1.pow(2).mean() + loss_bc2.pow(2).mean()\n",
        "    return loss\n"
      ],
      "metadata": {
        "id": "CO_Q7pYdoM8o"
      },
      "execution_count": 75,
      "outputs": []
    },
    {
      "cell_type": "code",
      "source": [
        "x = torch.tensor(x_train.reshape(100, 1), requires_grad=True, dtype = torch.float32)\n",
        "u = torch.tensor(u_train.reshape(100, 1), dtype = torch.float32)"
      ],
      "metadata": {
        "id": "_iVLOrm79a2G"
      },
      "execution_count": 76,
      "outputs": []
    },
    {
      "cell_type": "markdown",
      "metadata": {
        "id": "2zdkOoQOd9fS"
      },
      "source": [
        "## Task\n",
        "\n",
        "Use a PINN to find $u(x)$ and $f(x)$"
      ]
    },
    {
      "cell_type": "code",
      "execution_count": 77,
      "metadata": {
        "id": "H3ZnAxfFd9fS",
        "outputId": "71f6b4da-952f-40b2-e701-310879d2b026",
        "colab": {
          "base_uri": "https://localhost:8080/"
        }
      },
      "outputs": [
        {
          "output_type": "stream",
          "name": "stdout",
          "text": [
            "epoch 0, loss = 125.28824615478516\n",
            "epoch 1000, loss = 0.1806708425283432\n",
            "epoch 2000, loss = 0.0842612013220787\n",
            "epoch 3000, loss = 0.029583556577563286\n",
            "epoch 4000, loss = 0.020581796765327454\n",
            "epoch 5000, loss = 0.012270597741007805\n",
            "epoch 6000, loss = 0.011326716281473637\n",
            "epoch 7000, loss = 0.010583745315670967\n",
            "epoch 8000, loss = 0.010137607343494892\n",
            "epoch 9000, loss = 0.009916696697473526\n"
          ]
        }
      ],
      "source": [
        "for i in range(n_epochs):\n",
        "    loss = loss_function(model, x, u)\n",
        "    opt.zero_grad()\n",
        "    loss_history.append(loss.item())\n",
        "    \n",
        "    loss.backward()\n",
        "    opt.step()\n",
        "\n",
        "    if i % 1000 == 0:\n",
        "        print(f'epoch {i}, loss = {loss}')"
      ]
    },
    {
      "cell_type": "code",
      "source": [
        "plt.plot(loss_history)"
      ],
      "metadata": {
        "id": "qYWYZzGo_Zk3",
        "outputId": "bf6cab44-2dd3-4377-aa49-003315a72a5f",
        "colab": {
          "base_uri": "https://localhost:8080/",
          "height": 282
        }
      },
      "execution_count": 78,
      "outputs": [
        {
          "output_type": "execute_result",
          "data": {
            "text/plain": [
              "[<matplotlib.lines.Line2D at 0x7f61a43163d0>]"
            ]
          },
          "metadata": {},
          "execution_count": 78
        },
        {
          "output_type": "display_data",
          "data": {
            "text/plain": [
              "<Figure size 432x288 with 1 Axes>"
            ],
            "image/png": "[encoded data removed]"
          },
          "metadata": {
            "needs_background": "light"
          }
        }
      ]
    },
    {
      "cell_type": "code",
      "source": [
        "x_ = x.detach().numpy()\n",
        "y_ = model(x)[:, 0].detach().numpy()\n",
        "%matplotlib inline\n",
        "plt.plot(x_train, u_train, 'x', label = \"org\")\n",
        "plt.plot(x_train, y_, 'x', label = \"pred\")\n",
        "plt.xlabel('x')\n",
        "plt.ylabel('y')"
      ],
      "metadata": {
        "id": "xqZaZZS__00b",
        "outputId": "0148a3c4-c78f-40c3-c969-25bd1db7a0bf",
        "colab": {
          "base_uri": "https://localhost:8080/",
          "height": 296
        }
      },
      "execution_count": 79,
      "outputs": [
        {
          "output_type": "execute_result",
          "data": {
            "text/plain": [
              "Text(0, 0.5, 'y')"
            ]
          },
          "metadata": {},
          "execution_count": 79
        },
        {
          "output_type": "display_data",
          "data": {
            "text/plain": [
              "<Figure size 432x288 with 1 Axes>"
            ],
            "image/png": "[encoded data removed]"
          },
          "metadata": {
            "needs_background": "light"
          }
        }
      ]
    }
  ],
  "metadata": {
    "kernelspec": {
      "display_name": "Python 3 (ipykernel)",
      "language": "python",
      "name": "python3"
    },
    "language_info": {
      "codemirror_mode": {
        "name": "ipython",
        "version": 3
      },
      "file_extension": ".py",
      "mimetype": "text/x-python",
      "name": "python",
      "nbconvert_exporter": "python",
      "pygments_lexer": "ipython3",
      "version": "3.9.12"
    },
    "colab": {
      "provenance": []
    }
  },
  "nbformat": 4,
  "nbformat_minor": 0
}