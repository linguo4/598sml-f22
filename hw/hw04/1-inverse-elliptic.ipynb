{
  "cells": [
    {
      "cell_type": "markdown",
      "metadata": {
        "tags": [],
        "id": "0aj1uaIyd9fO"
      },
      "source": [
        "# Solving an inverse problem"
      ]
    },
    {
      "cell_type": "code",
      "source": [
        "%load_ext tensorboard"
      ],
      "metadata": {
        "id": "a0G3q7QFnl1g"
      },
      "execution_count": 1,
      "outputs": []
    },
    {
      "cell_type": "code",
      "execution_count": 2,
      "metadata": {
        "id": "nALbzIAud9fP"
      },
      "outputs": [],
      "source": [
        "import numpy as np\n",
        "import torch\n",
        "import tensorboard, datetime\n",
        "import matplotlib.pyplot as plt\n",
        "from torch import nn\n",
        "%matplotlib inline"
      ]
    },
    {
      "cell_type": "markdown",
      "metadata": {
        "id": "og5tlJdbd9fQ"
      },
      "source": [
        "## PDE\n",
        "\n",
        "$\\frac{\\partial^2 u}{\\partial x^2} = f(x) \\text{ for } x \\in (0,1)$\n",
        "\n",
        "$u(0) = u(1) = 0$\n",
        "\n",
        "$f(x)$ is unknown, but we are given training samples $\\{x_i,u_i\\}$"
      ]
    },
    {
      "cell_type": "markdown",
      "metadata": {
        "id": "xNcCB_ccd9fR"
      },
      "source": [
        "## Training data"
      ]
    },
    {
      "cell_type": "code",
      "execution_count": 3,
      "metadata": {
        "id": "et82-rdfd9fR"
      },
      "outputs": [],
      "source": [
        "def u_true(x):\n",
        "    return (1/48)*(8*x*(x**2 - 1) - (3/np.pi**2)*np.sin(4*np.pi*x))"
      ]
    },
    {
      "cell_type": "code",
      "execution_count": 4,
      "metadata": {
        "id": "bWDili1jd9fR",
        "outputId": "d298aa76-ca9b-4803-eaff-84c7185c674c",
        "colab": {
          "base_uri": "https://localhost:8080/",
          "height": 296
        }
      },
      "outputs": [
        {
          "output_type": "execute_result",
          "data": {
            "text/plain": [
              "Text(0, 0.5, 'y')"
            ]
          },
          "metadata": {},
          "execution_count": 4
        },
        {
          "output_type": "display_data",
          "data": {
            "text/plain": [
              "<Figure size 432x288 with 1 Axes>"
            ],
            "image/png": "[encoded data removed]"
          },
          "metadata": {
            "needs_background": "light"
          }
        }
      ],
      "source": [
        "x_train = np.random.rand(100)\n",
        "u_train = u_true(x_train)\n",
        "plt.plot(x_train, u_train, 'x')\n",
        "plt.xlabel('x')\n",
        "plt.ylabel('y')"
      ]
    },
    {
      "cell_type": "code",
      "source": [
        "class ffnn(nn.Module):\n",
        "    \"\"\"basic FF network for approximating functions\"\"\"\n",
        "    def __init__(self, nn_width=10, num_hidden=2):\n",
        "        super().__init__()\n",
        "        \n",
        "        self.layer_first = nn.Linear(1, nn_width)\n",
        "        \n",
        "        layers = []\n",
        "        for _ in range(num_hidden):\n",
        "            layers.append(nn.Linear(nn_width, nn_width))\n",
        "        self.layer_hidden = nn.ModuleList(layers)\n",
        "        \n",
        "        self.layer_last = nn.Linear(nn_width, 2)\n",
        "        \n",
        "    def forward(self, x):\n",
        "        xt = x\n",
        "        activation = nn.Tanh()\n",
        "        u = activation(self.layer_first(xt))\n",
        "        for hidden in self.layer_hidden:\n",
        "            u = activation(hidden(u))\n",
        "        u = self.layer_last(u)\n",
        "        return u"
      ],
      "metadata": {
        "id": "g_Nz5mNioGrD"
      },
      "execution_count": 5,
      "outputs": []
    },
    {
      "cell_type": "code",
      "source": [
        "torch.manual_seed(23939)\n",
        "model = ffnn(15, 2)\n",
        "\n",
        "lr = 0.001\n",
        "opt = torch.optim.Adam(model.parameters(), lr)\n",
        "n_epochs = 50000\n",
        "loss_history = []\n",
        "\n",
        "## Loss = MSE(u - u_i) + MSE(r_i)\n",
        "def loss_function(model, x, u_true): \n",
        "    output = model(x)\n",
        "    u = output[:, 0][:, None]\n",
        "    f = output[:, 1][:, None]\n",
        "    u_x = torch.autograd.grad(u, x, grad_outputs=torch.ones_like(x), create_graph=True, retain_graph=True)[0]\n",
        "    u_xx = torch.autograd.grad(u_x, x, grad_outputs=torch.ones_like(x), create_graph=True, retain_graph=True)[0]\n",
        "    loss_bc1 = model(torch.zeros_like(u))\n",
        "    loss_bc2 = model(torch.ones_like(u))\n",
        "    loss = torch.pow(u_xx-f, 2).mean() + 1000* torch.pow(u-u_true, 2).mean() + loss_bc1.pow(2).mean() + loss_bc2.pow(2).mean()\n",
        "    return loss\n"
      ],
      "metadata": {
        "id": "CO_Q7pYdoM8o"
      },
      "execution_count": 6,
      "outputs": []
    },
    {
      "cell_type": "code",
      "source": [
        "x = torch.tensor(x_train.reshape(100, 1), requires_grad=True, dtype = torch.float32)\n",
        "u = torch.tensor(u_train.reshape(100, 1), dtype = torch.float32)"
      ],
      "metadata": {
        "id": "_iVLOrm79a2G"
      },
      "execution_count": 7,
      "outputs": []
    },
    {
      "cell_type": "markdown",
      "metadata": {
        "id": "2zdkOoQOd9fS"
      },
      "source": [
        "## Task\n",
        "\n",
        "Use a PINN to find $u(x)$ and $f(x)$"
      ]
    },
    {
      "cell_type": "code",
      "execution_count": 8,
      "metadata": {
        "id": "H3ZnAxfFd9fS",
        "outputId": "201b6c7b-277f-406c-d96f-1660495ffa09",
        "colab": {
          "base_uri": "https://localhost:8080/"
        }
      },
      "outputs": [
        {
          "output_type": "stream",
          "name": "stdout",
          "text": [
            "epoch 0, loss = 127.74853515625\n",
            "epoch 1000, loss = 0.19361940026283264\n",
            "epoch 2000, loss = 0.08876048773527145\n",
            "epoch 3000, loss = 0.030761385336518288\n",
            "epoch 4000, loss = 0.020784279331564903\n",
            "epoch 5000, loss = 0.01292929146438837\n",
            "epoch 6000, loss = 0.011935261078178883\n",
            "epoch 7000, loss = 0.011120995506644249\n",
            "epoch 8000, loss = 0.010670346207916737\n",
            "epoch 9000, loss = 0.010657153092324734\n",
            "epoch 10000, loss = 0.01035380270332098\n",
            "epoch 11000, loss = 0.010287000797688961\n",
            "epoch 12000, loss = 0.010231821797788143\n",
            "epoch 13000, loss = 0.010175833478569984\n",
            "epoch 14000, loss = 0.010100586339831352\n",
            "epoch 15000, loss = 0.009966244921088219\n",
            "epoch 16000, loss = 0.009619418531656265\n",
            "epoch 17000, loss = 0.008835259824991226\n",
            "epoch 18000, loss = 0.007540605962276459\n",
            "epoch 19000, loss = 0.004509606398642063\n",
            "epoch 20000, loss = 0.002039112849161029\n",
            "epoch 21000, loss = 0.0012278221547603607\n",
            "epoch 22000, loss = 0.0008977031684480608\n",
            "epoch 23000, loss = 0.0007107197889126837\n",
            "epoch 24000, loss = 0.0005721670459024608\n",
            "epoch 25000, loss = 0.009746723808348179\n",
            "epoch 26000, loss = 0.00043638236820697784\n",
            "epoch 27000, loss = 0.000401793688070029\n",
            "epoch 28000, loss = 0.0007543229148723185\n",
            "epoch 29000, loss = 0.00035982942790724337\n",
            "epoch 30000, loss = 0.00034657519427128136\n",
            "epoch 31000, loss = 0.0003411593788769096\n",
            "epoch 32000, loss = 0.0003271342138759792\n",
            "epoch 33000, loss = 0.0034974783193320036\n",
            "epoch 34000, loss = 0.00031238142400979996\n",
            "epoch 35000, loss = 0.0003089175734203309\n",
            "epoch 36000, loss = 0.0002994481474161148\n",
            "epoch 37000, loss = 0.0002938634133897722\n",
            "epoch 38000, loss = 0.00032992311753332615\n",
            "epoch 39000, loss = 0.0002830123994499445\n",
            "epoch 40000, loss = 0.0002766818506643176\n",
            "epoch 41000, loss = 0.0002978302363771945\n",
            "epoch 42000, loss = 0.0002678924356587231\n",
            "epoch 43000, loss = 0.0002620066807139665\n",
            "epoch 44000, loss = 0.0002570436045061797\n",
            "epoch 45000, loss = 0.0002524018636904657\n",
            "epoch 46000, loss = 0.00024799638777039945\n",
            "epoch 47000, loss = 0.00024316736380569637\n",
            "epoch 48000, loss = 0.00025513977743685246\n",
            "epoch 49000, loss = 0.00023457824136130512\n"
          ]
        }
      ],
      "source": [
        "for i in range(n_epochs):\n",
        "    loss = loss_function(model, x, u)\n",
        "    opt.zero_grad()\n",
        "    loss_history.append(loss.item())\n",
        "    \n",
        "    loss.backward()\n",
        "    opt.step()\n",
        "\n",
        "    if i % 1000 == 0:\n",
        "        print(f'epoch {i}, loss = {loss}')"
      ]
    },
    {
      "cell_type": "code",
      "source": [
        "plt.plot(loss_history)"
      ],
      "metadata": {
        "id": "qYWYZzGo_Zk3",
        "outputId": "737919e7-3466-474c-f5ae-ede382e690a1",
        "colab": {
          "base_uri": "https://localhost:8080/",
          "height": 282
        }
      },
      "execution_count": 9,
      "outputs": [
        {
          "output_type": "execute_result",
          "data": {
            "text/plain": [
              "[<matplotlib.lines.Line2D at 0x7f9e592e7890>]"
            ]
          },
          "metadata": {},
          "execution_count": 9
        },
        {
          "output_type": "display_data",
          "data": {
            "text/plain": [
              "<Figure size 432x288 with 1 Axes>"
            ],
            "image/png": "[encoded data removed]"
          },
          "metadata": {
            "needs_background": "light"
          }
        }
      ]
    },
    {
      "cell_type": "code",
      "source": [
        "x_ = x.detach().numpy()\n",
        "y_ = model(x)[:, 0].detach().numpy()\n",
        "%matplotlib inline\n",
        "plt.plot(x_train, u_train, 'x', label = \"org\")\n",
        "plt.plot(x_train, y_, 'x', label = \"pred\")\n",
        "plt.xlabel('x')\n",
        "plt.ylabel('y')"
      ],
      "metadata": {
        "id": "xqZaZZS__00b",
        "outputId": "98693811-36b7-47e0-8aff-d908aff4262e",
        "colab": {
          "base_uri": "https://localhost:8080/",
          "height": 296
        }
      },
      "execution_count": 10,
      "outputs": [
        {
          "output_type": "execute_result",
          "data": {
            "text/plain": [
              "Text(0, 0.5, 'y')"
            ]
          },
          "metadata": {},
          "execution_count": 10
        },
        {
          "output_type": "display_data",
          "data": {
            "text/plain": [
              "<Figure size 432x288 with 1 Axes>"
            ],
            "image/png": "[encoded data removed]"
          },
          "metadata": {
            "needs_background": "light"
          }
        }
      ]
    },
    {
      "cell_type": "code",
      "source": [
        "y_1 = model(x)[:, 1].detach().numpy()\n",
        "def f_true(x):\n",
        "    return (1/48)*(48*x + (3/np.pi**2)*((4*np.pi)**2)*np.sin(4*np.pi*x))\n",
        "f_true = f_true(x_train)\n",
        "plt.plot(x_train, f_true, 'x', label = \"org\")\n",
        "plt.plot(x_train, y_1, 'x', label = \"pred\")\n",
        "plt.legend()\n",
        "plt.show"
      ],
      "metadata": {
        "id": "HPzcg815aar5",
        "outputId": "baaf8f9c-4b6b-4e1c-a063-c9703d862bb2",
        "colab": {
          "base_uri": "https://localhost:8080/",
          "height": 282
        }
      },
      "execution_count": 13,
      "outputs": [
        {
          "output_type": "execute_result",
          "data": {
            "text/plain": [
              "<function matplotlib.pyplot.show(*args, **kw)>"
            ]
          },
          "metadata": {},
          "execution_count": 13
        },
        {
          "output_type": "display_data",
          "data": {
            "text/plain": [
              "<Figure size 432x288 with 1 Axes>"
            ],
            "image/png": "[encoded data removed]"
          },
          "metadata": {
            "needs_background": "light"
          }
        }
      ]
    }
  ],
  "metadata": {
    "kernelspec": {
      "display_name": "Python 3 (ipykernel)",
      "language": "python",
      "name": "python3"
    },
    "language_info": {
      "codemirror_mode": {
        "name": "ipython",
        "version": 3
      },
      "file_extension": ".py",
      "mimetype": "text/x-python",
      "name": "python",
      "nbconvert_exporter": "python",
      "pygments_lexer": "ipython3",
      "version": "3.9.12"
    },
    "colab": {
      "provenance": []
    }
  },
  "nbformat": 4,
  "nbformat_minor": 0
}