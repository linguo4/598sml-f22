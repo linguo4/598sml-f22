{
  "cells": [
    {
      "cell_type": "markdown",
      "metadata": {
        "tags": [],
        "id": "0aj1uaIyd9fO"
      },
      "source": [
        "# Solving an inverse problem"
      ]
    },
    {
      "cell_type": "code",
      "source": [
        "%load_ext tensorboard"
      ],
      "metadata": {
        "id": "a0G3q7QFnl1g",
        "outputId": "42b105bc-6959-452c-e562-99fb7eb5aa02",
        "colab": {
          "base_uri": "https://localhost:8080/"
        }
      },
      "execution_count": 5,
      "outputs": [
        {
          "output_type": "stream",
          "name": "stdout",
          "text": [
            "The tensorboard extension is already loaded. To reload it, use:\n",
            "  %reload_ext tensorboard\n"
          ]
        }
      ]
    },
    {
      "cell_type": "code",
      "execution_count": 9,
      "metadata": {
        "id": "nALbzIAud9fP"
      },
      "outputs": [],
      "source": [
        "import numpy as np\n",
        "import torch\n",
        "import tensorboard, datetime\n",
        "import matplotlib.pyplot as plt\n",
        "from torch import nn\n",
        "%matplotlib inline"
      ]
    },
    {
      "cell_type": "markdown",
      "metadata": {
        "id": "og5tlJdbd9fQ"
      },
      "source": [
        "## PDE\n",
        "\n",
        "$\\frac{\\partial^2 u}{\\partial x^2} = f(x) \\text{ for } x \\in (0,1)$\n",
        "\n",
        "$u(0) = u(1) = 0$\n",
        "\n",
        "$f(x)$ is unknown, but we are given training samples $\\{x_i,u_i\\}$"
      ]
    },
    {
      "cell_type": "markdown",
      "metadata": {
        "id": "xNcCB_ccd9fR"
      },
      "source": [
        "## Training data"
      ]
    },
    {
      "cell_type": "code",
      "execution_count": 7,
      "metadata": {
        "id": "et82-rdfd9fR"
      },
      "outputs": [],
      "source": [
        "def u_true(x):\n",
        "    return (1/48)*(8*x*(x**2 - 1) - (3/np.pi**2)*np.sin(4*np.pi*x))"
      ]
    },
    {
      "cell_type": "code",
      "execution_count": 8,
      "metadata": {
        "id": "bWDili1jd9fR",
        "outputId": "cb2d3f97-3a8e-4fcc-f5e5-436ddd024eb6",
        "colab": {
          "base_uri": "https://localhost:8080/",
          "height": 296
        }
      },
      "outputs": [
        {
          "output_type": "execute_result",
          "data": {
            "text/plain": [
              "Text(0, 0.5, 'y')"
            ]
          },
          "metadata": {},
          "execution_count": 8
        },
        {
          "output_type": "display_data",
          "data": {
            "text/plain": [
              "<Figure size 432x288 with 1 Axes>"
            ],
            "image/png": "[encoded data removed]"
          },
          "metadata": {
            "needs_background": "light"
          }
        }
      ],
      "source": [
        "x_train = np.random.rand(100)\n",
        "u_train = u_true(x_train)\n",
        "plt.plot(x_train, u_train, 'x')\n",
        "plt.xlabel('x')\n",
        "plt.ylabel('y')"
      ]
    },
    {
      "cell_type": "code",
      "source": [
        "class ffnn(nn.Module):\n",
        "    \"\"\"basic FF network for approximating functions\"\"\"\n",
        "    def __init__(self, nn_width=10, num_hidden=2):\n",
        "        super().__init__()\n",
        "        \n",
        "        self.layer_first = nn.Linear(2, nn_width)\n",
        "        \n",
        "        layers = []\n",
        "        for _ in range(num_hidden):\n",
        "            layers.append(nn.Linear(nn_width, nn_width))\n",
        "        self.layer_hidden = nn.ModuleList(layers)\n",
        "        \n",
        "        self.layer_last = nn.Linear(nn_width, 2)\n",
        "        \n",
        "    def forward(self, x):\n",
        "        xt = x\n",
        "        activation = nn.Tanh()\n",
        "        u = activation(self.layer_first(xt))\n",
        "        for hidden in self.layer_hidden:\n",
        "            u = activation(hidden(u))\n",
        "        u = self.layer_last(u)\n",
        "        return u"
      ],
      "metadata": {
        "id": "g_Nz5mNioGrD"
      },
      "execution_count": 10,
      "outputs": []
    },
    {
      "cell_type": "code",
      "source": [
        "torch.manual_seed(23939)\n",
        "model = ffnn(15, 2)\n",
        "\n",
        "lr = 0.025\n",
        "opt = torch.optim.Adam(model.parameters(), lr)\n",
        "n_epochs = 10000\n",
        "loss_history = []\n",
        "\n",
        "def loss(model, x, u_true): \n",
        "    output = model.forward(x)\n",
        "    u = output[0] \n",
        "    f = output[1] \n",
        "    u_x = torch.autograd.grad(u, x, create_graph=True, retain_graph=True)[0]\n",
        "    u_xx = torch.autograd.grad(u_x, x, create_graph=True, retain_graph=True)[0]\n",
        "    loss = torch.pow(u_xx-f, 2) + torch.pow(u-u_true, 2)\n",
        "## Loss = MSE(u - u_i) + MSE(r_i)"
      ],
      "metadata": {
        "id": "CO_Q7pYdoM8o"
      },
      "execution_count": null,
      "outputs": []
    },
    {
      "cell_type": "markdown",
      "metadata": {
        "id": "2zdkOoQOd9fS"
      },
      "source": [
        "## Task\n",
        "\n",
        "Use a PINN to find $u(x)$ and $f(x)$"
      ]
    },
    {
      "cell_type": "code",
      "execution_count": null,
      "metadata": {
        "id": "H3ZnAxfFd9fS"
      },
      "outputs": [],
      "source": []
    }
  ],
  "metadata": {
    "kernelspec": {
      "display_name": "Python 3 (ipykernel)",
      "language": "python",
      "name": "python3"
    },
    "language_info": {
      "codemirror_mode": {
        "name": "ipython",
        "version": 3
      },
      "file_extension": ".py",
      "mimetype": "text/x-python",
      "name": "python",
      "nbconvert_exporter": "python",
      "pygments_lexer": "ipython3",
      "version": "3.9.12"
    },
    "colab": {
      "provenance": []
    }
  },
  "nbformat": 4,
  "nbformat_minor": 0
}