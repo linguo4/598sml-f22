{
  "cells": [
    {
      "cell_type": "markdown",
      "metadata": {
        "tags": [],
        "id": "-F9_XOcsIm8K"
      },
      "source": [
        "# Neural ODEs"
      ]
    },
    {
      "cell_type": "code",
      "execution_count": 3,
      "metadata": {
        "id": "ppO9fb_1Im8M"
      },
      "outputs": [],
      "source": [
        "import numpy as np\n",
        "import torch\n",
        "import matplotlib.pyplot as plt\n",
        "import random\n",
        "from torchdiffeq import odeint_adjoint as odeint\n",
        "import IPython\n",
        "%matplotlib inline"
      ]
    },
    {
      "cell_type": "markdown",
      "metadata": {
        "id": "UbvifdyZIm8N"
      },
      "source": [
        "## Pendulum ODE\n",
        "\n",
        "$$\n",
        "\\begin{align}\n",
        "\\frac{d}{dt} \\begin{bmatrix} \\theta \\\\ \\omega \\end{bmatrix} &= \\begin{bmatrix} \\omega \\\\ - \\sin\\theta \\end{bmatrix} \\\\\n",
        "\\theta(0) &= \\frac{3\\pi}{4} \\\\\n",
        "\\omega(0) &= 0 \\\\\n",
        "t &\\in [0,10]\n",
        "\\end{align}\n",
        "$$"
      ]
    },
    {
      "cell_type": "markdown",
      "metadata": {
        "id": "ZvLaDzLOIm8O"
      },
      "source": [
        "## Tasks\n",
        "\n",
        "1. Generate training data by simulating a trajectory of the system\n",
        "2. Train a Neural ODE to fit the simulated trajectory\n",
        "3. Plot the vector field of your Neural ODE\n",
        "4. How well does your Neural ODE genearlize to other initial conditions? Can you improve this?"
      ]
    },
    {
      "cell_type": "code",
      "source": [
        "data_size = 100\n",
        "batch_time = 10\n",
        "batch_size = 20"
      ],
      "metadata": {
        "id": "bpWc8a6-P0u7"
      },
      "execution_count": 32,
      "outputs": []
    },
    {
      "cell_type": "code",
      "source": [
        "t = torch.linspace(0., 10., data_size)\n",
        "u_0 = torch.tensor([3*torch.pi/4, 0.])\n",
        "\n",
        "class TrueFunc(torch.nn.Module):\n",
        "    def forward(self, t, u):\n",
        "        return torch.tensor([u[1], -torch.sin(u[0])])\n",
        "\n",
        "with torch.no_grad():\n",
        "    u = odeint(TrueFunc(), u_0, t, method='dopri5')"
      ],
      "metadata": {
        "id": "x9JPgcR2LGPl"
      },
      "execution_count": 33,
      "outputs": []
    },
    {
      "cell_type": "code",
      "source": [
        "class ODEFunc(torch.nn.Module):\n",
        "    def __init__(self):\n",
        "        super(ODEFunc, self).__init__()\n",
        "        self.net = torch.nn.Sequential(\n",
        "            torch.nn.Linear(2, 50),\n",
        "            torch.nn.Tanh(),\n",
        "            torch.nn.Linear(50, 2),\n",
        "        )\n",
        "        for m in self.net.modules():\n",
        "            if isinstance(m, torch.nn.Linear):\n",
        "                torch.nn.init.normal_(m.weight, mean=0, std=0.1)\n",
        "                torch.nn.init.constant_(m.bias, val=0)\n",
        "\n",
        "    def forward(self, t, y):\n",
        "        return self.net(y)"
      ],
      "metadata": {
        "id": "k379DKaDNQ3K"
      },
      "execution_count": 34,
      "outputs": []
    },
    {
      "cell_type": "code",
      "source": [
        "func = ODEFunc()\n",
        "opt = torch.optim.RMSprop(func.parameters(), lr=1e-3)\n",
        "loss_history = []"
      ],
      "metadata": {
        "id": "QJAc1qZPNVI5"
      },
      "execution_count": 35,
      "outputs": []
    },
    {
      "cell_type": "code",
      "source": [
        "def plot_trajectories(plot_pred=True):\n",
        "    with torch.no_grad():\n",
        "        plt.plot(u[:,0], u[:,1], label='true')\n",
        "        if plot_pred:\n",
        "            pred_y = odeint(func, u_0, t, method='dopri5')\n",
        "            plt.plot(pred_y[:,0], pred_y[:,1], 'r--', label='NeuralODE')\n",
        "        plt.gca().set_aspect('equal')\n",
        "        plt.legend()"
      ],
      "metadata": {
        "id": "ijvQWN7jNXD3"
      },
      "execution_count": 36,
      "outputs": []
    },
    {
      "cell_type": "code",
      "source": [
        "plot_trajectories()"
      ],
      "metadata": {
        "id": "cBjMO0fTNYKQ",
        "outputId": "030b6345-2478-42d8-a097-4cc69e8993f6",
        "colab": {
          "base_uri": "https://localhost:8080/",
          "height": 268
        }
      },
      "execution_count": 38,
      "outputs": [
        {
          "output_type": "display_data",
          "data": {
            "text/plain": [
              "<Figure size 432x288 with 1 Axes>"
            ],
            "image/png": "[encoded data removed]"
          },
          "metadata": {
            "needs_background": "light"
          }
        }
      ]
    },
    {
      "cell_type": "code",
      "source": [
        "def get_batch():\n",
        "    s = torch.from_numpy(np.random.choice(np.arange(data_size - batch_time, dtype=np.int64), batch_size, replace=False))\n",
        "    batch_u0 = u[s]  # (M, D)\n",
        "    batch_t = t[:batch_time]  # (T)\n",
        "    batch_u = torch.stack([u[s + i] for i in range(batch_time)], dim=0)  # (T, M, D)\n",
        "    return batch_u0, batch_t, batch_u"
      ],
      "metadata": {
        "id": "ygh7nsWlOz9t"
      },
      "execution_count": 41,
      "outputs": []
    },
    {
      "cell_type": "code",
      "source": [
        "get_batch()"
      ],
      "metadata": {
        "id": "WpMrTYIWQIXS",
        "outputId": "61909070-14e2-476c-8f4e-8cfdd8262d08",
        "colab": {
          "base_uri": "https://localhost:8080/"
        }
      },
      "execution_count": 42,
      "outputs": [
        {
          "output_type": "execute_result",
          "data": {
            "text/plain": [
              "(tensor([[ 2.3562,  0.0000],\n",
              "         [-1.8463,  0.9328],\n",
              "         [-2.2011,  0.4853],\n",
              "         [-2.3340,  0.1783],\n",
              "         [-2.0155,  0.7442],\n",
              "         [ 2.0473,  0.7049],\n",
              "         [ 0.5087, -1.7779],\n",
              "         [-1.3890,  1.3326],\n",
              "         [-1.7426, -1.0355],\n",
              "         [ 0.5009,  1.7800],\n",
              "         [ 1.6914, -1.0833],\n",
              "         [ 1.4522, -1.2848],\n",
              "         [-0.6017,  1.7501],\n",
              "         [ 2.1140,  0.6168],\n",
              "         [-1.2431, -1.4345],\n",
              "         [ 2.0504, -0.7009],\n",
              "         [ 1.0187, -1.5694],\n",
              "         [ 0.8560, -1.6508],\n",
              "         [-2.0832, -0.6585],\n",
              "         [ 0.6856, -1.7211]]),\n",
              " tensor([0.0000, 0.1010, 0.2020, 0.3030, 0.4040, 0.5051, 0.6061, 0.7071, 0.8081,\n",
              "         0.9091]),\n",
              " tensor([[[ 2.3562,  0.0000],\n",
              "          [-1.8463,  0.9328],\n",
              "          [-2.2011,  0.4853],\n",
              "          [-2.3340,  0.1783],\n",
              "          [-2.0155,  0.7442],\n",
              "          [ 2.0473,  0.7049],\n",
              "          [ 0.5087, -1.7779],\n",
              "          [-1.3890,  1.3326],\n",
              "          [-1.7426, -1.0355],\n",
              "          [ 0.5009,  1.7800],\n",
              "          [ 1.6914, -1.0833],\n",
              "          [ 1.4522, -1.2848],\n",
              "          [-0.6017,  1.7501],\n",
              "          [ 2.1140,  0.6168],\n",
              "          [-1.2431, -1.4345],\n",
              "          [ 2.0504, -0.7009],\n",
              "          [ 1.0187, -1.5694],\n",
              "          [ 0.8560, -1.6508],\n",
              "          [-2.0832, -0.6585],\n",
              "          [ 0.6856, -1.7211]],\n",
              " \n",
              "         [[ 2.3526, -0.0715],\n",
              "          [-1.7472,  1.0312],\n",
              "          [-2.1479,  0.5684],\n",
              "          [-2.3122,  0.2520],\n",
              "          [-1.9357,  0.8370],\n",
              "          [ 2.1140,  0.6168],\n",
              "          [ 0.3269, -1.8189],\n",
              "          [-1.2495,  1.4303],\n",
              "          [-1.8422, -0.9370],\n",
              "          [ 0.6780,  1.7239],\n",
              "          [ 1.5769, -1.1840],\n",
              "          [ 1.3174, -1.3840],\n",
              "          [-0.4223,  1.7996],\n",
              "          [ 2.1720,  0.5319],\n",
              "          [-1.3831, -1.3369],\n",
              "          [ 1.9750, -0.7922],\n",
              "          [ 0.8560, -1.6508],\n",
              "          [ 0.6856, -1.7211],\n",
              "          [-2.1454, -0.5721],\n",
              "          [ 0.5087, -1.7779]],\n",
              " \n",
              "         [[ 2.3417, -0.1435],\n",
              "          [-1.6380,  1.1314],\n",
              "          [-2.0861,  0.6546],\n",
              "          [-2.2830,  0.3274],\n",
              "          [-1.8463,  0.9328],\n",
              "          [ 2.1720,  0.5319],\n",
              "          [ 0.1419, -1.8423],\n",
              "          [-1.1002,  1.5235],\n",
              "          [-1.9320, -0.8411],\n",
              "          [ 0.8487,  1.6541],\n",
              "          [ 1.4522, -1.2848],\n",
              "          [ 1.1728, -1.4797],\n",
              "          [-0.2388,  1.8323],\n",
              "          [ 2.2216,  0.4501],\n",
              "          [-1.5131, -1.2367],\n",
              "          [ 1.8903, -0.8866],\n",
              "          [ 0.6856, -1.7211],\n",
              "          [ 0.5087, -1.7779],\n",
              "          [-2.1989, -0.4888],\n",
              "          [ 0.3269, -1.8189]],\n",
              " \n",
              "         [[ 2.3236, -0.2166],\n",
              "          [-1.5186,  1.2323],\n",
              "          [-2.0155,  0.7442],\n",
              "          [-2.2460,  0.4051],\n",
              "          [-1.7472,  1.0312],\n",
              "          [ 2.2216,  0.4501],\n",
              "          [-0.0446, -1.8472],\n",
              "          [-0.9419,  1.6096],\n",
              "          [-2.0122, -0.7482],\n",
              "          [ 1.0118,  1.5732],\n",
              "          [ 1.3174, -1.3840],\n",
              "          [ 1.0187, -1.5694],\n",
              "          [-0.0528,  1.8470],\n",
              "          [ 2.2630,  0.3711],\n",
              "          [-1.6330, -1.1358],\n",
              "          [ 1.7958, -0.9838],\n",
              "          [ 0.5087, -1.7779],\n",
              "          [ 0.3269, -1.8189],\n",
              "          [-2.2442, -0.4085],\n",
              "          [ 0.1419, -1.8423]],\n",
              " \n",
              "         [[ 2.2979, -0.2911],\n",
              "          [-1.3890,  1.3326],\n",
              "          [-1.9357,  0.8370],\n",
              "          [-2.2011,  0.4853],\n",
              "          [-1.6380,  1.1314],\n",
              "          [ 2.2630,  0.3711],\n",
              "          [-0.2307, -1.8334],\n",
              "          [-0.7754,  1.6860],\n",
              "          [-2.0832, -0.6585],\n",
              "          [ 1.1662,  1.4837],\n",
              "          [ 1.1728, -1.4797],\n",
              "          [ 0.8560, -1.6508],\n",
              "          [ 0.1337,  1.8429],\n",
              "          [ 2.2966,  0.2944],\n",
              "          [-1.7426, -1.0355],\n",
              "          [ 1.6914, -1.0833],\n",
              "          [ 0.3269, -1.8189],\n",
              "          [ 0.1419, -1.8423],\n",
              "          [-2.2815, -0.3308],\n",
              "          [-0.0446, -1.8472]],\n",
              " \n",
              "         [[ 2.2647, -0.3677],\n",
              "          [-1.2495,  1.4303],\n",
              "          [-1.8463,  0.9328],\n",
              "          [-2.1479,  0.5684],\n",
              "          [-1.5186,  1.2323],\n",
              "          [ 2.2966,  0.2944],\n",
              "          [-0.4144, -1.8014],\n",
              "          [-0.6017,  1.7501],\n",
              "          [-2.1454, -0.5721],\n",
              "          [ 1.3113,  1.3883],\n",
              "          [ 1.0187, -1.5694],\n",
              "          [ 0.6856, -1.7211],\n",
              "          [ 0.3189,  1.8203],\n",
              "          [ 2.3226,  0.2198],\n",
              "          [-1.8422, -0.9370],\n",
              "          [ 1.5769, -1.1840],\n",
              "          [ 0.1419, -1.8423],\n",
              "          [-0.0446, -1.8472],\n",
              "          [-2.3111, -0.2553],\n",
              "          [-0.2307, -1.8334]],\n",
              " \n",
              "         [[ 2.2236, -0.4466],\n",
              "          [-1.1002,  1.5235],\n",
              "          [-1.7472,  1.0312],\n",
              "          [-2.0861,  0.6546],\n",
              "          [-1.3890,  1.3326],\n",
              "          [ 2.3226,  0.2198],\n",
              "          [-0.5940, -1.7526],\n",
              "          [-0.4223,  1.7996],\n",
              "          [-2.1989, -0.4888],\n",
              "          [ 1.4466,  1.2892],\n",
              "          [ 0.8560, -1.6508],\n",
              "          [ 0.5087, -1.7779],\n",
              "          [ 0.5009,  1.7800],\n",
              "          [ 2.3411,  0.1467],\n",
              "          [-1.9320, -0.8411],\n",
              "          [ 1.4522, -1.2848],\n",
              "          [-0.0446, -1.8472],\n",
              "          [-0.2307, -1.8334],\n",
              "          [-2.3332, -0.1815],\n",
              "          [-0.4144, -1.8014]],\n",
              " \n",
              "         [[ 2.1744, -0.5282],\n",
              "          [-0.9419,  1.6096],\n",
              "          [-1.6380,  1.1314],\n",
              "          [-2.0155,  0.7442],\n",
              "          [-1.2495,  1.4303],\n",
              "          [ 2.3411,  0.1467],\n",
              "          [-0.7679, -1.6891],\n",
              "          [-0.2388,  1.8323],\n",
              "          [-2.2442, -0.4085],\n",
              "          [ 1.5717,  1.1884],\n",
              "          [ 0.6856, -1.7211],\n",
              "          [ 0.3269, -1.8189],\n",
              "          [ 0.6780,  1.7239],\n",
              "          [ 2.3523,  0.0746],\n",
              "          [-2.0122, -0.7482],\n",
              "          [ 1.3174, -1.3840],\n",
              "          [-0.2307, -1.8334],\n",
              "          [-0.4144, -1.8014],\n",
              "          [-2.3478, -0.1090],\n",
              "          [-0.5940, -1.7526]],\n",
              " \n",
              "         [[ 2.1168, -0.6130],\n",
              "          [-0.7754,  1.6860],\n",
              "          [-1.5186,  1.2323],\n",
              "          [-1.9357,  0.8370],\n",
              "          [-1.1002,  1.5235],\n",
              "          [ 2.3523,  0.0746],\n",
              "          [-0.9348, -1.6131],\n",
              "          [-0.0528,  1.8470],\n",
              "          [-2.2815, -0.3308],\n",
              "          [ 1.6867,  1.0877],\n",
              "          [ 0.5087, -1.7779],\n",
              "          [ 0.1419, -1.8423],\n",
              "          [ 0.8487,  1.6541],\n",
              "          [ 2.3562,  0.0031],\n",
              "          [-2.0832, -0.6585],\n",
              "          [ 1.1728, -1.4797],\n",
              "          [-0.4144, -1.8014],\n",
              "          [-0.5940, -1.7526],\n",
              "          [-2.3552, -0.0373],\n",
              "          [-0.7679, -1.6891]],\n",
              " \n",
              "         [[ 2.0504, -0.7009],\n",
              "          [-0.6017,  1.7501],\n",
              "          [-1.3890,  1.3326],\n",
              "          [-1.8463,  0.9328],\n",
              "          [-0.9419,  1.6096],\n",
              "          [ 2.3562,  0.0031],\n",
              "          [-1.0935, -1.5274],\n",
              "          [ 0.1337,  1.8429],\n",
              "          [-2.3111, -0.2553],\n",
              "          [ 1.7915,  0.9881],\n",
              "          [ 0.3269, -1.8189],\n",
              "          [-0.0446, -1.8472],\n",
              "          [ 1.0118,  1.5732],\n",
              "          [ 2.3529, -0.0684],\n",
              "          [-2.1454, -0.5721],\n",
              "          [ 1.0187, -1.5694],\n",
              "          [-0.5940, -1.7526],\n",
              "          [-0.7679, -1.6891],\n",
              "          [-2.3554,  0.0342],\n",
              "          [-0.9348, -1.6131]]]))"
            ]
          },
          "metadata": {},
          "execution_count": 42
        }
      ]
    },
    {
      "cell_type": "code",
      "source": [
        "sample_t = t[:10]\n",
        "for epoch in range(100):\n",
        "    opt.zero_grad()\n",
        "\n",
        "    # compute the loss function by sampling many short trajectory segments\n",
        "    # ... fill this in ...\n",
        "    batch_u0, batch_t, batch_u = get_batch()\n",
        "    pred_u = odeint(func, batch_u0, batch_t)\n",
        "    loss = torch.mean(torch.abs(pred_u - batch_u))\n",
        "    # store and print current loss value\n",
        "    loss_history.append(loss.item())\n",
        "    IPython.display.clear_output(wait=True)\n",
        "    print(f'{epoch}: {loss.item()}')\n",
        "\n",
        "    # differentiate and take a gradient step\n",
        "    loss.backward()\n",
        "    opt.step()"
      ],
      "metadata": {
        "id": "Zxxn2yA9NbTR",
        "outputId": "b88081a8-7e34-4cdf-c226-f46474fced12",
        "colab": {
          "base_uri": "https://localhost:8080/"
        }
      },
      "execution_count": 43,
      "outputs": [
        {
          "output_type": "stream",
          "name": "stdout",
          "text": [
            "99: 0.05943802744150162\n"
          ]
        }
      ]
    },
    {
      "cell_type": "code",
      "source": [
        "plt.plot(loss_history)\n"
      ],
      "metadata": {
        "id": "2RkhNYUqNhm3",
        "outputId": "3a68fd36-cdeb-42ee-e0cf-5b93042fed97",
        "colab": {
          "base_uri": "https://localhost:8080/",
          "height": 282
        }
      },
      "execution_count": 45,
      "outputs": [
        {
          "output_type": "execute_result",
          "data": {
            "text/plain": [
              "[<matplotlib.lines.Line2D at 0x7f5b5311a410>]"
            ]
          },
          "metadata": {},
          "execution_count": 45
        },
        {
          "output_type": "display_data",
          "data": {
            "text/plain": [
              "<Figure size 432x288 with 1 Axes>"
            ],
            "image/png": "[encoded data removed]"
          },
          "metadata": {
            "needs_background": "light"
          }
        }
      ]
    },
    {
      "cell_type": "code",
      "source": [
        "plot_trajectories()"
      ],
      "metadata": {
        "id": "XYO9QW_tQwHb",
        "outputId": "be1b3eeb-0136-4f32-b65b-981d1dbd15e1",
        "colab": {
          "base_uri": "https://localhost:8080/",
          "height": 268
        }
      },
      "execution_count": 46,
      "outputs": [
        {
          "output_type": "display_data",
          "data": {
            "text/plain": [
              "<Figure size 432x288 with 1 Axes>"
            ],
            "image/png": "[encoded data removed]"
          },
          "metadata": {
            "needs_background": "light"
          }
        }
      ]
    },
    {
      "cell_type": "markdown",
      "metadata": {
        "id": "p9MpnZSwIm8O"
      },
      "source": [
        "## Hints\n",
        "\n",
        "1. We are using the package https://github.com/rtqichen/torchdiffeq\n",
        "2. See the example: https://github.com/rtqichen/torchdiffeq/blob/master/examples/ode_demo.py"
      ]
    }
  ],
  "metadata": {
    "kernelspec": {
      "display_name": "Python 3 (ipykernel)",
      "language": "python",
      "name": "python3"
    },
    "language_info": {
      "codemirror_mode": {
        "name": "ipython",
        "version": 3
      },
      "file_extension": ".py",
      "mimetype": "text/x-python",
      "name": "python",
      "nbconvert_exporter": "python",
      "pygments_lexer": "ipython3",
      "version": "3.9.12"
    },
    "colab": {
      "provenance": []
    }
  },
  "nbformat": 4,
  "nbformat_minor": 0
}