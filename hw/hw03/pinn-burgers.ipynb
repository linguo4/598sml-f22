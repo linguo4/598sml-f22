{
  "cells": [
    {
      "cell_type": "code",
      "execution_count": 1,
      "id": "392f0d3f-a5de-49e8-a6e3-2d74112bd3df",
      "metadata": {
        "id": "392f0d3f-a5de-49e8-a6e3-2d74112bd3df"
      },
      "outputs": [],
      "source": [
        "import matplotlib.pyplot as plt\n",
        "import numpy as np\n",
        "import torch\n",
        "from torch import nn\n",
        "from functools import partial"
      ]
    },
    {
      "cell_type": "code",
      "execution_count": 2,
      "id": "1bc8687e-ac6a-4888-9a7c-c02650604671",
      "metadata": {
        "id": "1bc8687e-ac6a-4888-9a7c-c02650604671"
      },
      "outputs": [],
      "source": [
        "def u0(x):\n",
        "    \"\"\"initial condition\"\"\"\n",
        "    u = -torch.sin(torch.pi * x)\n",
        "    return u\n",
        "\n",
        "class ffnn(nn.Module):\n",
        "    \"\"\"basic FF network for approximating functions\"\"\"\n",
        "    def __init__(self, nn_width=10, num_hidden=2):\n",
        "        super().__init__()\n",
        "        \n",
        "        self.layer_first = nn.Linear(2, nn_width)\n",
        "        \n",
        "        layers = []\n",
        "        for _ in range(num_hidden):\n",
        "            layers.append(nn.Linear(nn_width, nn_width))\n",
        "        self.layer_hidden = nn.ModuleList(layers)\n",
        "        \n",
        "        self.layer_last = nn.Linear(nn_width, 1)\n",
        "        \n",
        "    def forward(self, x, t):\n",
        "        xt = torch.cat([x, t], dim=1)\n",
        "        activation = nn.Tanh()\n",
        "        u = activation(self.layer_first(xt))\n",
        "        for hidden in self.layer_hidden:\n",
        "            u = activation(hidden(u))\n",
        "        u = self.layer_last(u)\n",
        "        return u"
      ]
    },
    {
      "cell_type": "markdown",
      "id": "fc8c9d96-5f0c-4996-9ddd-edd7dd55e138",
      "metadata": {
        "id": "fc8c9d96-5f0c-4996-9ddd-edd7dd55e138"
      },
      "source": [
        "# Create a model\n",
        "\n",
        "Create a model for\n",
        "$$\n",
        "u_t + u u_x = 0\n",
        "$$\n",
        "with $u(x,0)=-sin(\\pi x)$ and $u(-1,t)=u(1,t)=0$."
      ]
    },
    {
      "cell_type": "code",
      "execution_count": 35,
      "id": "51639300-a8de-40c1-b4b1-4965896efd37",
      "metadata": {
        "id": "51639300-a8de-40c1-b4b1-4965896efd37",
        "outputId": "1ccd793e-133f-42e4-eed9-8025ad3d9fd0",
        "colab": {
          "base_uri": "https://localhost:8080/"
        }
      },
      "outputs": [
        {
          "output_type": "stream",
          "name": "stderr",
          "text": [
            "/usr/local/lib/python3.7/dist-packages/torch/functional.py:478: UserWarning: torch.meshgrid: in an upcoming release, it will be required to pass the indexing argument. (Triggered internally at  ../aten/src/ATen/native/TensorShape.cpp:2894.)\n",
            "  return _VF.meshgrid(tensors, **kwargs)  # type: ignore[attr-defined]\n"
          ]
        }
      ],
      "source": [
        "# 1. FIXME -- training data\n",
        "nx_train = 100\n",
        "nt_train = 100\n",
        "x1d = torch.linspace(-1,1, nx_train, requires_grad=True)\n",
        "t1d = torch.linspace(-1,1, nt_train, requires_grad=True)\n",
        "\n",
        "x, t = torch.meshgrid(x1d, t1d)\n",
        "x_bc = x[0]\n",
        "t_bc = \n",
        "\n",
        "# 2. set the model\n",
        "torch.manual_seed(23939)\n",
        "model = ffnn(15, 2)\n",
        "\n",
        "# 3. set the optimizer\n",
        "lr = 0.025\n",
        "opt = torch.optim.Adam(model.parameters(), lr)\n",
        "n_epochs = 10000\n",
        "loss_history = []\n",
        "\n",
        "# 4. FIXME -- set the loss for BC, IC, and the residual\n",
        "def loss_function(model, x, t): \n",
        "    u = model.forward(x,t)   \n",
        "    u_t = torch.autograd.grad(u, t, grad_outputs=torch.ones_like(t), create_graph=True, retain_graph=True)[0]\n",
        "    u_x = torch.autograd.grad(u, x, grad_outputs=torch.ones_like(t), create_graph=True, retain_graph=True)[0]\n",
        "    u_xx = torch.autograd.grad(u_x, x, create_graph=True, retain_graph=True)[0]\n",
        "    loss_value = torch.pow((u_t + u*u_x - (0.01/torch.pi) * u_xx),2)\n",
        "    return loss_value\n",
        "\n",
        "loss_value_bc = torch.pow(model.forward(-1, t), 2) + torch.pow(model.forward(1, t), 2) + torch.pow(model.forward(x, 0) +  u0(x), 2)"
      ]
    },
    {
      "cell_type": "code",
      "source": [
        "x[0]"
      ],
      "metadata": {
        "id": "fJvQ-oHo6dqr",
        "outputId": "3493ffb8-c4ab-4dd8-a126-bdc28eb602fc",
        "colab": {
          "base_uri": "https://localhost:8080/"
        }
      },
      "id": "fJvQ-oHo6dqr",
      "execution_count": 38,
      "outputs": [
        {
          "output_type": "execute_result",
          "data": {
            "text/plain": [
              "tensor([-1., -1., -1., -1., -1., -1., -1., -1., -1., -1., -1., -1., -1., -1.,\n",
              "        -1., -1., -1., -1., -1., -1., -1., -1., -1., -1., -1., -1., -1., -1.,\n",
              "        -1., -1., -1., -1., -1., -1., -1., -1., -1., -1., -1., -1., -1., -1.,\n",
              "        -1., -1., -1., -1., -1., -1., -1., -1., -1., -1., -1., -1., -1., -1.,\n",
              "        -1., -1., -1., -1., -1., -1., -1., -1., -1., -1., -1., -1., -1., -1.,\n",
              "        -1., -1., -1., -1., -1., -1., -1., -1., -1., -1., -1., -1., -1., -1.,\n",
              "        -1., -1., -1., -1., -1., -1., -1., -1., -1., -1., -1., -1., -1., -1.,\n",
              "        -1., -1.], grad_fn=<SelectBackward0>)"
            ]
          },
          "metadata": {},
          "execution_count": 38
        }
      ]
    },
    {
      "cell_type": "code",
      "source": [
        "x=torch.tensor(np.arange(-1,1,0.02))\n",
        "t=torch.tensor(np.arange(-1,1,0.02))\n",
        "X, T = np.meshgrid(x,t)    "
      ],
      "metadata": {
        "id": "SbabKszNxj6C"
      },
      "id": "SbabKszNxj6C",
      "execution_count": 27,
      "outputs": []
    },
    {
      "cell_type": "code",
      "source": [
        "T"
      ],
      "metadata": {
        "id": "VhQtJywV2a9W",
        "outputId": "6ebddd64-8f39-43aa-bf2e-c8dbdcd75148",
        "colab": {
          "base_uri": "https://localhost:8080/"
        }
      },
      "id": "VhQtJywV2a9W",
      "execution_count": 29,
      "outputs": [
        {
          "output_type": "execute_result",
          "data": {
            "text/plain": [
              "array([[-1.  , -1.  , -1.  , ..., -1.  , -1.  , -1.  ],\n",
              "       [-0.98, -0.98, -0.98, ..., -0.98, -0.98, -0.98],\n",
              "       [-0.96, -0.96, -0.96, ..., -0.96, -0.96, -0.96],\n",
              "       ...,\n",
              "       [ 0.94,  0.94,  0.94, ...,  0.94,  0.94,  0.94],\n",
              "       [ 0.96,  0.96,  0.96, ...,  0.96,  0.96,  0.96],\n",
              "       [ 0.98,  0.98,  0.98, ...,  0.98,  0.98,  0.98]])"
            ]
          },
          "metadata": {},
          "execution_count": 29
        }
      ]
    },
    {
      "cell_type": "code",
      "execution_count": 30,
      "id": "467cf557-fd0f-4f56-994a-5de1d2e5985f",
      "metadata": {
        "id": "467cf557-fd0f-4f56-994a-5de1d2e5985f",
        "outputId": "9b2cfe97-09e2-4e59-d967-a24b5c8b5d71",
        "colab": {
          "base_uri": "https://localhost:8080/",
          "height": 380
        }
      },
      "outputs": [
        {
          "output_type": "error",
          "ename": "TypeError",
          "evalue": "ignored",
          "traceback": [
            "\u001b[0;31m---------------------------------------------------------------------------\u001b[0m",
            "\u001b[0;31mTypeError\u001b[0m                                 Traceback (most recent call last)",
            "\u001b[0;32m<ipython-input-30-36850380f5f5>\u001b[0m in \u001b[0;36m<module>\u001b[0;34m\u001b[0m\n\u001b[1;32m      1\u001b[0m \u001b[0;32mfor\u001b[0m \u001b[0mi\u001b[0m \u001b[0;32min\u001b[0m \u001b[0mrange\u001b[0m\u001b[0;34m(\u001b[0m\u001b[0mn_epochs\u001b[0m\u001b[0;34m)\u001b[0m\u001b[0;34m:\u001b[0m\u001b[0;34m\u001b[0m\u001b[0;34m\u001b[0m\u001b[0m\n\u001b[1;32m      2\u001b[0m \u001b[0;34m\u001b[0m\u001b[0m\n\u001b[0;32m----> 3\u001b[0;31m     \u001b[0mloss\u001b[0m \u001b[0;34m=\u001b[0m \u001b[0mloss_function\u001b[0m\u001b[0;34m(\u001b[0m\u001b[0mmodel\u001b[0m\u001b[0;34m,\u001b[0m \u001b[0mX\u001b[0m\u001b[0;34m,\u001b[0m \u001b[0mT\u001b[0m\u001b[0;34m)\u001b[0m\u001b[0;34m\u001b[0m\u001b[0;34m\u001b[0m\u001b[0m\n\u001b[0m\u001b[1;32m      4\u001b[0m     \u001b[0mopt\u001b[0m\u001b[0;34m.\u001b[0m\u001b[0mzero_grad\u001b[0m\u001b[0;34m(\u001b[0m\u001b[0;34m)\u001b[0m\u001b[0;34m\u001b[0m\u001b[0;34m\u001b[0m\u001b[0m\n\u001b[1;32m      5\u001b[0m     \u001b[0mloss_history\u001b[0m\u001b[0;34m.\u001b[0m\u001b[0mappend\u001b[0m\u001b[0;34m(\u001b[0m\u001b[0mloss\u001b[0m\u001b[0;34m.\u001b[0m\u001b[0mitem\u001b[0m\u001b[0;34m(\u001b[0m\u001b[0;34m)\u001b[0m\u001b[0;34m)\u001b[0m\u001b[0;34m\u001b[0m\u001b[0;34m\u001b[0m\u001b[0m\n",
            "\u001b[0;32m<ipython-input-11-e32492a86ef2>\u001b[0m in \u001b[0;36mloss_function\u001b[0;34m(model, x, t)\u001b[0m\n\u001b[1;32m     13\u001b[0m \u001b[0;31m# 4. FIXME -- set the loss for BC, IC, and the residual\u001b[0m\u001b[0;34m\u001b[0m\u001b[0;34m\u001b[0m\u001b[0;34m\u001b[0m\u001b[0m\n\u001b[1;32m     14\u001b[0m \u001b[0;32mdef\u001b[0m \u001b[0mloss_function\u001b[0m\u001b[0;34m(\u001b[0m\u001b[0mmodel\u001b[0m\u001b[0;34m,\u001b[0m \u001b[0mx\u001b[0m\u001b[0;34m,\u001b[0m \u001b[0mt\u001b[0m\u001b[0;34m)\u001b[0m\u001b[0;34m:\u001b[0m\u001b[0;34m\u001b[0m\u001b[0;34m\u001b[0m\u001b[0m\n\u001b[0;32m---> 15\u001b[0;31m     \u001b[0mu\u001b[0m \u001b[0;34m=\u001b[0m \u001b[0mmodel\u001b[0m\u001b[0;34m.\u001b[0m\u001b[0mforward\u001b[0m\u001b[0;34m(\u001b[0m\u001b[0mx\u001b[0m\u001b[0;34m,\u001b[0m\u001b[0mt\u001b[0m\u001b[0;34m)\u001b[0m\u001b[0;34m\u001b[0m\u001b[0;34m\u001b[0m\u001b[0m\n\u001b[0m\u001b[1;32m     16\u001b[0m     \u001b[0mu_t\u001b[0m \u001b[0;34m=\u001b[0m \u001b[0mtorch\u001b[0m\u001b[0;34m.\u001b[0m\u001b[0mautograd\u001b[0m\u001b[0;34m.\u001b[0m\u001b[0mgrad\u001b[0m\u001b[0;34m(\u001b[0m\u001b[0mu\u001b[0m\u001b[0;34m,\u001b[0m \u001b[0mt\u001b[0m\u001b[0;34m,\u001b[0m \u001b[0mgrad_outputs\u001b[0m\u001b[0;34m=\u001b[0m\u001b[0mtorch\u001b[0m\u001b[0;34m.\u001b[0m\u001b[0mones_like\u001b[0m\u001b[0;34m(\u001b[0m\u001b[0mt\u001b[0m\u001b[0;34m)\u001b[0m\u001b[0;34m,\u001b[0m \u001b[0mcreate_graph\u001b[0m\u001b[0;34m=\u001b[0m\u001b[0;32mTrue\u001b[0m\u001b[0;34m)\u001b[0m\u001b[0;34m[\u001b[0m\u001b[0;36m0\u001b[0m\u001b[0;34m]\u001b[0m\u001b[0;34m\u001b[0m\u001b[0;34m\u001b[0m\u001b[0m\n\u001b[1;32m     17\u001b[0m     \u001b[0mu_x\u001b[0m \u001b[0;34m=\u001b[0m \u001b[0mtorch\u001b[0m\u001b[0;34m.\u001b[0m\u001b[0mautograd\u001b[0m\u001b[0;34m.\u001b[0m\u001b[0mgrad\u001b[0m\u001b[0;34m(\u001b[0m\u001b[0mu\u001b[0m\u001b[0;34m,\u001b[0m \u001b[0mx\u001b[0m\u001b[0;34m,\u001b[0m \u001b[0mgrad_outputs\u001b[0m\u001b[0;34m=\u001b[0m\u001b[0mtorch\u001b[0m\u001b[0;34m.\u001b[0m\u001b[0mones_like\u001b[0m\u001b[0;34m(\u001b[0m\u001b[0mt\u001b[0m\u001b[0;34m)\u001b[0m\u001b[0;34m,\u001b[0m \u001b[0mcreate_graph\u001b[0m\u001b[0;34m=\u001b[0m\u001b[0;32mTrue\u001b[0m\u001b[0;34m)\u001b[0m\u001b[0;34m[\u001b[0m\u001b[0;36m0\u001b[0m\u001b[0;34m]\u001b[0m\u001b[0;34m\u001b[0m\u001b[0;34m\u001b[0m\u001b[0m\n",
            "\u001b[0;32m<ipython-input-2-1671ee765cdc>\u001b[0m in \u001b[0;36mforward\u001b[0;34m(self, x, t)\u001b[0m\n\u001b[1;32m     19\u001b[0m \u001b[0;34m\u001b[0m\u001b[0m\n\u001b[1;32m     20\u001b[0m     \u001b[0;32mdef\u001b[0m \u001b[0mforward\u001b[0m\u001b[0;34m(\u001b[0m\u001b[0mself\u001b[0m\u001b[0;34m,\u001b[0m \u001b[0mx\u001b[0m\u001b[0;34m,\u001b[0m \u001b[0mt\u001b[0m\u001b[0;34m)\u001b[0m\u001b[0;34m:\u001b[0m\u001b[0;34m\u001b[0m\u001b[0;34m\u001b[0m\u001b[0m\n\u001b[0;32m---> 21\u001b[0;31m         \u001b[0mxt\u001b[0m \u001b[0;34m=\u001b[0m \u001b[0mtorch\u001b[0m\u001b[0;34m.\u001b[0m\u001b[0mcat\u001b[0m\u001b[0;34m(\u001b[0m\u001b[0;34m[\u001b[0m\u001b[0mx\u001b[0m\u001b[0;34m,\u001b[0m \u001b[0mt\u001b[0m\u001b[0;34m]\u001b[0m\u001b[0;34m,\u001b[0m \u001b[0mdim\u001b[0m\u001b[0;34m=\u001b[0m\u001b[0;36m1\u001b[0m\u001b[0;34m)\u001b[0m\u001b[0;34m\u001b[0m\u001b[0;34m\u001b[0m\u001b[0m\n\u001b[0m\u001b[1;32m     22\u001b[0m         \u001b[0mactivation\u001b[0m \u001b[0;34m=\u001b[0m \u001b[0mnn\u001b[0m\u001b[0;34m.\u001b[0m\u001b[0mTanh\u001b[0m\u001b[0;34m(\u001b[0m\u001b[0;34m)\u001b[0m\u001b[0;34m\u001b[0m\u001b[0;34m\u001b[0m\u001b[0m\n\u001b[1;32m     23\u001b[0m         \u001b[0mu\u001b[0m \u001b[0;34m=\u001b[0m \u001b[0mactivation\u001b[0m\u001b[0;34m(\u001b[0m\u001b[0mself\u001b[0m\u001b[0;34m.\u001b[0m\u001b[0mlayer_first\u001b[0m\u001b[0;34m(\u001b[0m\u001b[0mxt\u001b[0m\u001b[0;34m)\u001b[0m\u001b[0;34m)\u001b[0m\u001b[0;34m\u001b[0m\u001b[0;34m\u001b[0m\u001b[0m\n",
            "\u001b[0;31mTypeError\u001b[0m: expected Tensor as element 0 in argument 0, but got numpy.ndarray"
          ]
        }
      ],
      "source": [
        "for i in range(n_epochs):\n",
        "\n",
        "    loss = loss_function(model, X, T)\n",
        "    opt.zero_grad()\n",
        "    loss_history.append(loss.item())\n",
        "    \n",
        "    loss.backward()\n",
        "    opt.step()\n",
        "\n",
        "    if i % 1000 == 0:\n",
        "        print(f'epoch {i}, loss = {loss}')"
      ]
    },
    {
      "cell_type": "markdown",
      "id": "012ab8f8-91ac-486b-8da5-01e69b6e9829",
      "metadata": {
        "id": "012ab8f8-91ac-486b-8da5-01e69b6e9829"
      },
      "source": [
        "# Plot the solution"
      ]
    },
    {
      "cell_type": "code",
      "execution_count": null,
      "id": "9edfe055-78c5-4461-9280-b7759404cb26",
      "metadata": {
        "id": "9edfe055-78c5-4461-9280-b7759404cb26"
      },
      "outputs": [],
      "source": []
    }
  ],
  "metadata": {
    "kernelspec": {
      "display_name": "Python 3 (ipykernel)",
      "language": "python",
      "name": "python3"
    },
    "language_info": {
      "codemirror_mode": {
        "name": "ipython",
        "version": 3
      },
      "file_extension": ".py",
      "mimetype": "text/x-python",
      "name": "python",
      "nbconvert_exporter": "python",
      "pygments_lexer": "ipython3",
      "version": "3.10.6"
    },
    "colab": {
      "provenance": []
    }
  },
  "nbformat": 4,
  "nbformat_minor": 5
}